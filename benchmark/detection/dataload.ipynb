{
 "cells": [
  {
   "cell_type": "code",
   "execution_count": 1,
   "metadata": {},
   "outputs": [],
   "source": [
    "from dataset import CocoDataset\n",
    "from torch.utils.data import DataLoader\n",
    "import os\n",
    "os.environ[\"CUDA_VISIBLE_DEVICES\"] = \"1,2\""
   ]
  },
  {
   "cell_type": "code",
   "execution_count": 3,
   "metadata": {},
   "outputs": [],
   "source": [
    "ann_file = \"/home/geng/fiftyone/coco-2017/validation/labels.json\"\n",
    "# dataset_type = 'CocoDataset'  # 数据集类型，这将被用来定义数据集。\n",
    "data_root = '/home/geng/fiftyone/coco-2017/validation/data/'  # 数据的根路径。\n",
    "batch_size = 1\n",
    "input_size = (1216,800)\n",
    "\n",
    "img_norm_cfg = dict(\n",
    "    mean=[123.675, 116.28, 103.53], std=[58.395, 57.12, 57.375], to_rgb=True)\n",
    "\n",
    "\n",
    "test_pipeline = [\n",
    "    dict(type='LoadImageFromFile'),\n",
    "    dict(\n",
    "        type='MultiScaleFlipAug',\n",
    "        img_scale=input_size,\n",
    "        flip=False,\n",
    "        transforms=[\n",
    "            dict(type='Resize', keep_ratio=False),\n",
    "            dict(type='Normalize', **img_norm_cfg),\n",
    "            dict(type='Pad', size_divisor=32),\n",
    "            dict(type='ImageToTensor', keys=['img']),\n",
    "            dict(type='Collect', keys=['img']),\n",
    "        ])\n",
    "]\n",
    "# dataset = CocoDataset(ann_file=ann_file, pipeline=test_pipeline,data_root=data_root)"
   ]
  },
  {
   "cell_type": "code",
   "execution_count": 3,
   "metadata": {},
   "outputs": [],
   "source": [
    "# from mmcv.parallel import collate\n",
    "# batch_size = 1\n",
    "# data_loader = DataLoader(\n",
    "#         dataset,\n",
    "#         batch_size=batch_size,\n",
    "#         collate_fn=collate\n",
    "#         )"
   ]
  },
  {
   "cell_type": "code",
   "execution_count": 4,
   "metadata": {},
   "outputs": [
    {
     "name": "stdout",
     "output_type": "stream",
     "text": [
      "loading annotations into memory...\n",
      "Done (t=0.76s)\n",
      "creating index...\n",
      "index created!\n"
     ]
    }
   ],
   "source": [
    "from dataset import build_dataset\n",
    "from mmcv.parallel import collate\n",
    "dataset = build_dataset(ann_file=ann_file,data_root=data_root,input_size=input_size)\n",
    "calib_dataloader = DataLoader(dataset,batch_size=1,collate_fn=collate)"
   ]
  },
  {
   "cell_type": "code",
   "execution_count": 4,
   "metadata": {},
   "outputs": [],
   "source": [
    "from tqdm import tqdm\n",
    "import onnxruntime\n",
    "import torch\n",
    "import numpy as np\n",
    "#  onnx推理过程\n",
    "def onnxruntime_inference(data_loader,onnxruntime_model_path):\n",
    "    sess = onnxruntime.InferenceSession(path_or_bytes=onnxruntime_model_path, providers=['CUDAExecutionProvider'])\n",
    "    input_placeholder_name = sess.get_inputs()[0].name\n",
    "    outputnames = [x.name for x in sess.get_outputs()]\n",
    "    outputs = []\n",
    "    for x in tqdm(data_loader):\n",
    "        input_tensor = x[\"img\"][0]\n",
    "        img_metas = x[\"img_metas\"][0].data[0][0]\n",
    "        output = sess.run(input_feed={input_placeholder_name: input_tensor.cpu().numpy()},output_names=outputnames)\n",
    "        img_metas[\"output\"] = output\n",
    "        outputs.append(img_metas)\n",
    "    return outputs"
   ]
  },
  {
   "cell_type": "code",
   "execution_count": 7,
   "metadata": {},
   "outputs": [],
   "source": [
    "x = next(iter(dataloader))"
   ]
  },
  {
   "cell_type": "code",
   "execution_count": 12,
   "metadata": {},
   "outputs": [
    {
     "data": {
      "text/plain": [
       "torch.Size([20, 3, 800, 1216])"
      ]
     },
     "execution_count": 12,
     "metadata": {},
     "output_type": "execute_result"
    }
   ],
   "source": [
    "x[\"img\"][0].shape"
   ]
  },
  {
   "cell_type": "code",
   "execution_count": 4,
   "metadata": {},
   "outputs": [],
   "source": [
    "\"\"\"\n",
    "将任意模型的输出转换为常规输出\n",
    "[N,result]  N为样本数\n",
    "result: [C,[M,5]] 其中C为类别,M为bbox数目，5为左上角、右下角坐标与置信分数。\n",
    "并且根据尺度进行复原\n",
    "\"\"\"\n",
    "# 模型后处理过程\n",
    "def post_process(model_name,outputs):\n",
    "    if model_name == \"retinanet-end\":\n",
    "        results = []\n",
    "        for output in outputs:\n",
    "            img_scale = output[\"scale_factor\"] \n",
    "            labels,bboxs = output[\"output\"]\n",
    "            result = [[] for _ in range(len(dataset.cat_ids))]\n",
    "            bboxs,labels = bboxs[0],labels[0]\n",
    "            for i,label in enumerate(labels):\n",
    "                bboxs[i][:4] = bboxs[i][:4] / img_scale  # 进行bbox的尺寸复原\n",
    "                result[label].append(bboxs[i])\n",
    "            results.append(result)\n",
    "        return results\n",
    "    elif model_name == \"retinanet\":\n",
    "        pass"
   ]
  },
  {
   "cell_type": "code",
   "execution_count": 26,
   "metadata": {},
   "outputs": [
    {
     "name": "stderr",
     "output_type": "stream",
     "text": [
      "  0%|          | 0/4952 [00:00<?, ?it/s]\n"
     ]
    },
    {
     "ename": "InvalidArgument",
     "evalue": "[ONNXRuntimeError] : 2 : INVALID_ARGUMENT : Got invalid dimensions for input: input for the following indices\n index: 2 Got: 1216 Expected: 800\n index: 3 Got: 800 Expected: 1216\n Please fix either the inputs or the model.",
     "output_type": "error",
     "traceback": [
      "\u001b[0;31m---------------------------------------------------------------------------\u001b[0m",
      "\u001b[0;31mInvalidArgument\u001b[0m                           Traceback (most recent call last)",
      "\u001b[1;32m/home/geng/tinyml/ppq/benchmark/detection/dataload.ipynb Cell 9\u001b[0m in \u001b[0;36m<cell line: 4>\u001b[0;34m()\u001b[0m\n\u001b[1;32m      <a href='vscode-notebook-cell://ssh-remote%2Bcad02/home/geng/tinyml/ppq/benchmark/detection/dataload.ipynb#X54sdnNjb2RlLXJlbW90ZQ%3D%3D?line=1'>2</a>\u001b[0m onnxruntime_model_path \u001b[39m=\u001b[39m \u001b[39m\"\u001b[39m\u001b[39m/home/geng/tinyml/ppq/benchmark/detection/FP32_model/Retinanet-FP32-end.onnx\u001b[39m\u001b[39m\"\u001b[39m\n\u001b[1;32m      <a href='vscode-notebook-cell://ssh-remote%2Bcad02/home/geng/tinyml/ppq/benchmark/detection/dataload.ipynb#X54sdnNjb2RlLXJlbW90ZQ%3D%3D?line=2'>3</a>\u001b[0m \u001b[39m# onnxruntime_model_path = \"/home/geng/tinyml/ppq/benchmark/detection/TRT_output/Retinanet-ORT-INT8.onnx\"\u001b[39;00m\n\u001b[0;32m----> <a href='vscode-notebook-cell://ssh-remote%2Bcad02/home/geng/tinyml/ppq/benchmark/detection/dataload.ipynb#X54sdnNjb2RlLXJlbW90ZQ%3D%3D?line=3'>4</a>\u001b[0m outputs \u001b[39m=\u001b[39m onnxruntime_inference(dataloader,onnxruntime_model_path)\n\u001b[1;32m      <a href='vscode-notebook-cell://ssh-remote%2Bcad02/home/geng/tinyml/ppq/benchmark/detection/dataload.ipynb#X54sdnNjb2RlLXJlbW90ZQ%3D%3D?line=4'>5</a>\u001b[0m results \u001b[39m=\u001b[39m post_process(\u001b[39m\"\u001b[39m\u001b[39mretinanet-end\u001b[39m\u001b[39m\"\u001b[39m,outputs)\n",
      "File \u001b[0;32m~/tinyml/ppq/benchmark/detection/inference/det_inference.py:18\u001b[0m, in \u001b[0;36monnxruntime_inference\u001b[0;34m(dataloader, onnxruntime_model_path, device)\u001b[0m\n\u001b[1;32m     14\u001b[0m \u001b[39mwith\u001b[39;00m torch\u001b[39m.\u001b[39mno_grad():\n\u001b[1;32m     15\u001b[0m         \u001b[39m# 将[numpy.darray]提前转为numpy.darray,提升推理速度\u001b[39;00m\n\u001b[1;32m     16\u001b[0m     model_forward_function \u001b[39m=\u001b[39m \u001b[39mlambda\u001b[39;00m input_tensor: sess\u001b[39m.\u001b[39mrun(\n\u001b[1;32m     17\u001b[0m         input_feed\u001b[39m=\u001b[39m{input_placeholder_name: input_tensor\u001b[39m.\u001b[39mcpu()\u001b[39m.\u001b[39mnumpy()}, output_names\u001b[39m=\u001b[39moutputnames)\n\u001b[0;32m---> 18\u001b[0m     \u001b[39mreturn\u001b[39;00m _inference_any_module_with_coco(model_forward_function\u001b[39m=\u001b[39;49mmodel_forward_function,dataloader\u001b[39m=\u001b[39;49mdataloader,device\u001b[39m=\u001b[39;49mdevice)\n",
      "File \u001b[0;32m~/tinyml/ppq/benchmark/detection/inference/det_inference.py:31\u001b[0m, in \u001b[0;36m_inference_any_module_with_coco\u001b[0;34m(model_forward_function, dataloader, device)\u001b[0m\n\u001b[1;32m     29\u001b[0m input_tensor \u001b[39m=\u001b[39m x[\u001b[39m\"\u001b[39m\u001b[39mimg\u001b[39m\u001b[39m\"\u001b[39m][\u001b[39m0\u001b[39m]\u001b[39m.\u001b[39mto(device)\n\u001b[1;32m     30\u001b[0m img_metas \u001b[39m=\u001b[39m x[\u001b[39m\"\u001b[39m\u001b[39mimg_metas\u001b[39m\u001b[39m\"\u001b[39m][\u001b[39m0\u001b[39m]\u001b[39m.\u001b[39mdata[\u001b[39m0\u001b[39m][\u001b[39m0\u001b[39m]\n\u001b[0;32m---> 31\u001b[0m output \u001b[39m=\u001b[39m model_forward_function(input_tensor)\n\u001b[1;32m     32\u001b[0m img_metas[\u001b[39m\"\u001b[39m\u001b[39moutput\u001b[39m\u001b[39m\"\u001b[39m] \u001b[39m=\u001b[39m output\n\u001b[1;32m     33\u001b[0m outputs\u001b[39m.\u001b[39mappend(img_metas)\n",
      "File \u001b[0;32m~/tinyml/ppq/benchmark/detection/inference/det_inference.py:16\u001b[0m, in \u001b[0;36monnxruntime_inference.<locals>.<lambda>\u001b[0;34m(input_tensor)\u001b[0m\n\u001b[1;32m     13\u001b[0m outputs \u001b[39m=\u001b[39m []\n\u001b[1;32m     14\u001b[0m \u001b[39mwith\u001b[39;00m torch\u001b[39m.\u001b[39mno_grad():\n\u001b[1;32m     15\u001b[0m         \u001b[39m# 将[numpy.darray]提前转为numpy.darray,提升推理速度\u001b[39;00m\n\u001b[0;32m---> 16\u001b[0m     model_forward_function \u001b[39m=\u001b[39m \u001b[39mlambda\u001b[39;00m input_tensor: sess\u001b[39m.\u001b[39;49mrun(\n\u001b[1;32m     17\u001b[0m         input_feed\u001b[39m=\u001b[39;49m{input_placeholder_name: input_tensor\u001b[39m.\u001b[39;49mcpu()\u001b[39m.\u001b[39;49mnumpy()}, output_names\u001b[39m=\u001b[39;49moutputnames)\n\u001b[1;32m     18\u001b[0m     \u001b[39mreturn\u001b[39;00m _inference_any_module_with_coco(model_forward_function\u001b[39m=\u001b[39mmodel_forward_function,dataloader\u001b[39m=\u001b[39mdataloader,device\u001b[39m=\u001b[39mdevice)\n",
      "File \u001b[0;32m~/anaconda3/envs/ppq/lib/python3.8/site-packages/onnxruntime/capi/onnxruntime_inference_collection.py:192\u001b[0m, in \u001b[0;36mSession.run\u001b[0;34m(self, output_names, input_feed, run_options)\u001b[0m\n\u001b[1;32m    190\u001b[0m     output_names \u001b[39m=\u001b[39m [output\u001b[39m.\u001b[39mname \u001b[39mfor\u001b[39;00m output \u001b[39min\u001b[39;00m \u001b[39mself\u001b[39m\u001b[39m.\u001b[39m_outputs_meta]\n\u001b[1;32m    191\u001b[0m \u001b[39mtry\u001b[39;00m:\n\u001b[0;32m--> 192\u001b[0m     \u001b[39mreturn\u001b[39;00m \u001b[39mself\u001b[39;49m\u001b[39m.\u001b[39;49m_sess\u001b[39m.\u001b[39;49mrun(output_names, input_feed, run_options)\n\u001b[1;32m    193\u001b[0m \u001b[39mexcept\u001b[39;00m C\u001b[39m.\u001b[39mEPFail \u001b[39mas\u001b[39;00m err:\n\u001b[1;32m    194\u001b[0m     \u001b[39mif\u001b[39;00m \u001b[39mself\u001b[39m\u001b[39m.\u001b[39m_enable_fallback:\n",
      "\u001b[0;31mInvalidArgument\u001b[0m: [ONNXRuntimeError] : 2 : INVALID_ARGUMENT : Got invalid dimensions for input: input for the following indices\n index: 2 Got: 1216 Expected: 800\n index: 3 Got: 800 Expected: 1216\n Please fix either the inputs or the model."
     ]
    }
   ],
   "source": [
    "from inference import onnxruntime_inference\n",
    "onnxruntime_model_path = \"/home/geng/tinyml/ppq/benchmark/detection/FP32_model/Retinanet-FP32-end.onnx\"\n",
    "# onnxruntime_model_path = \"/home/geng/tinyml/ppq/benchmark/detection/TRT_output/Retinanet-ORT-INT8.onnx\"\n",
    "outputs = onnxruntime_inference(dataloader,onnxruntime_model_path)\n",
    "results = post_process(\"retinanet-end\",outputs)"
   ]
  },
  {
   "cell_type": "code",
   "execution_count": 5,
   "metadata": {},
   "outputs": [
    {
     "ename": "NameError",
     "evalue": "name 'outputs' is not defined",
     "output_type": "error",
     "traceback": [
      "\u001b[0;31m---------------------------------------------------------------------------\u001b[0m",
      "\u001b[0;31mNameError\u001b[0m                                 Traceback (most recent call last)",
      "\u001b[1;32m/home/geng/tinyml/ppq/benchmark/detection/dataload.ipynb Cell 8\u001b[0m in \u001b[0;36m<cell line: 1>\u001b[0;34m()\u001b[0m\n\u001b[0;32m----> <a href='vscode-notebook-cell://ssh-remote%2Bcad02/home/geng/tinyml/ppq/benchmark/detection/dataload.ipynb#Y101sdnNjb2RlLXJlbW90ZQ%3D%3D?line=0'>1</a>\u001b[0m outputs\n",
      "\u001b[0;31mNameError\u001b[0m: name 'outputs' is not defined"
     ]
    }
   ],
   "source": [
    "outputs"
   ]
  },
  {
   "cell_type": "code",
   "execution_count": 15,
   "metadata": {},
   "outputs": [
    {
     "data": {
      "text/plain": [
       "{'bbox': './result/retinanet-trt-ort.bbox.json',\n",
       " 'proposal': './result/retinanet-trt-ort.bbox.json'}"
      ]
     },
     "execution_count": 15,
     "metadata": {},
     "output_type": "execute_result"
    }
   ],
   "source": [
    "dataset.results2json(results=results,outfile_prefix=\"./result/retinanet-trt-ort\")  # 结果统一保存为coco json"
   ]
  },
  {
   "cell_type": "code",
   "execution_count": 5,
   "metadata": {},
   "outputs": [
    {
     "name": "stdout",
     "output_type": "stream",
     "text": [
      "\n",
      "Evaluating bbox...\n",
      "Loading and preparing results...\n",
      "DONE (t=1.31s)\n",
      "creating index...\n",
      "index created!\n",
      "Running per image evaluation...\n",
      "Evaluate annotation type *bbox*\n"
     ]
    }
   ],
   "source": [
    "# result_path = \"/home/geng/tinyml/ppq/benchmark/detection/result/retinanet-trt-ort.bbox.json\"\n",
    "result_path = \"/home/geng/tinyml/ppq/benchmark/detection/OpenVino_output/Retinanet-PPQ-INT8.bbox.json\"\n",
    "report = dataset.evaluate(results_json_path=result_path)  \n",
    "# dataset.evaluate(results=results) # 直接使用输出结果进行测试  "
   ]
  },
  {
   "cell_type": "code",
   "execution_count": null,
   "metadata": {},
   "outputs": [],
   "source": [
    "dict(report)[\"map\"]"
   ]
  }
 ],
 "metadata": {
  "kernelspec": {
   "display_name": "Python 3.8.13 ('ppq')",
   "language": "python",
   "name": "python3"
  },
  "language_info": {
   "codemirror_mode": {
    "name": "ipython",
    "version": 3
   },
   "file_extension": ".py",
   "mimetype": "text/x-python",
   "name": "python",
   "nbconvert_exporter": "python",
   "pygments_lexer": "ipython3",
   "version": "3.8.13"
  },
  "orig_nbformat": 4,
  "vscode": {
   "interpreter": {
    "hash": "e1f49b93815805eca9ccc5299d655a62f3a8d0678e274dc3dfeb518f21176dcd"
   }
  }
 },
 "nbformat": 4,
 "nbformat_minor": 2
}
