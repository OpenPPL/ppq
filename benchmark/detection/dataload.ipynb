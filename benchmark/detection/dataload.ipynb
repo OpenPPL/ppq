{
 "cells": [
  {
   "cell_type": "code",
   "execution_count": 1,
   "metadata": {},
   "outputs": [],
   "source": [
    "from dataset import CocoDataset\n",
    "from torch.utils.data import DataLoader"
   ]
  },
  {
   "cell_type": "code",
   "execution_count": 2,
   "metadata": {},
   "outputs": [
    {
     "name": "stdout",
     "output_type": "stream",
     "text": [
      "loading annotations into memory...\n",
      "Done (t=0.76s)\n",
      "creating index...\n",
      "index created!\n"
     ]
    }
   ],
   "source": [
    "ann_file = \"/home/geng/fiftyone/coco-2017/validation/labels.json\"\n",
    "dataset_type = 'CocoDataset'  # 数据集类型，这将被用来定义数据集。\n",
    "data_root = '/home/geng/fiftyone/coco-2017/validation/data/'  # 数据的根路径。\n",
    "\n",
    "img_norm_cfg = dict(\n",
    "    mean=[123.675, 116.28, 103.53], std=[58.395, 57.12, 57.375], to_rgb=True)\n",
    "input_size = (1216,800)\n",
    "\n",
    "test_pipeline = [\n",
    "    dict(type='LoadImageFromFile'),\n",
    "    dict(\n",
    "        type='MultiScaleFlipAug',\n",
    "        img_scale=input_size,\n",
    "        flip=False,\n",
    "        transforms=[\n",
    "            dict(type='Resize', keep_ratio=False),\n",
    "            dict(type='Normalize', **img_norm_cfg),\n",
    "            dict(type='Pad', size_divisor=32),\n",
    "            dict(type='ImageToTensor', keys=['img']),\n",
    "            dict(type='Collect', keys=['img']),\n",
    "        ])\n",
    "]\n",
    "dataset = CocoDataset(ann_file=ann_file, pipeline=test_pipeline,data_root=data_root)"
   ]
  },
  {
   "cell_type": "code",
   "execution_count": 4,
   "metadata": {},
   "outputs": [],
   "source": [
    "from mmcv.parallel import collate\n",
    "batch_size = 1\n",
    "data_loader = DataLoader(\n",
    "        dataset,\n",
    "        batch_size=batch_size,\n",
    "        collate_fn=collate\n",
    "        )"
   ]
  },
  {
   "cell_type": "code",
   "execution_count": 5,
   "metadata": {},
   "outputs": [],
   "source": [
    "from tqdm import tqdm\n",
    "import onnxruntime\n",
    "import torch\n",
    "import numpy as np\n",
    "#  onnx推理过程\n",
    "def onnxruntime_inference(data_loader,onnxruntime_model_path):\n",
    "    sess = onnxruntime.InferenceSession(path_or_bytes=onnxruntime_model_path, providers=['CUDAExecutionProvider'])\n",
    "    input_placeholder_name = sess.get_inputs()[0].name\n",
    "    outputnames = [x.name for x in sess.get_outputs()]\n",
    "    outputs = []\n",
    "    for x in tqdm(data_loader):\n",
    "        input_tensor = x[\"img\"][0]\n",
    "        img_metas = x[\"img_metas\"][0].data[0][0]\n",
    "        output = sess.run(input_feed={input_placeholder_name: input_tensor.cpu().numpy()},output_names=outputnames)\n",
    "        img_metas[\"output\"] = output\n",
    "        outputs.append(img_metas)\n",
    "    return outputs"
   ]
  },
  {
   "cell_type": "code",
   "execution_count": 6,
   "metadata": {},
   "outputs": [],
   "source": [
    "\"\"\"\n",
    "将任意模型的输出转换为常规输出\n",
    "[N,result]  N为样本数\n",
    "result: [C,[M,5]] 其中C为类别,M为bbox数目，5为左上角、右下角坐标与置信分数。\n",
    "并且根据尺度进行复原\n",
    "\"\"\"\n",
    "# 模型后处理过程\n",
    "def post_process(model_name,outputs):\n",
    "    if model_name == \"retinanet\":\n",
    "        results = []\n",
    "        for output in outputs:\n",
    "            img_scale = output[\"scale_factor\"] \n",
    "            bboxs,labels = output[\"output\"]\n",
    "            result = [[] for _ in range(len(dataset.cat_ids))]\n",
    "            bboxs,labels = bboxs[0],labels[0]\n",
    "            for i,label in enumerate(labels):\n",
    "                bboxs[i][:4] = bboxs[i][:4] / img_scale  # 进行bbox的尺寸复原\n",
    "                result[label].append(bboxs[i])\n",
    "            results.append(result)\n",
    "        return results"
   ]
  },
  {
   "cell_type": "code",
   "execution_count": 11,
   "metadata": {},
   "outputs": [
    {
     "name": "stderr",
     "output_type": "stream",
     "text": [
      "  0%|          | 0/4952 [00:00<?, ?it/s]\n"
     ]
    }
   ],
   "source": [
    "onnxruntime_model_path = \"/home/geng/tinyml/ppq/benchmark/detection/FP32_model/Retinanet-FP32-end.onnx\"\n",
    "outputs = onnxruntime_inference(data_loader,onnxruntime_model_path)\n",
    "results = post_process(\"retinanet\",outputs)"
   ]
  },
  {
   "cell_type": "code",
   "execution_count": 17,
   "metadata": {},
   "outputs": [
    {
     "data": {
      "text/plain": [
       "{'bbox': 'retinanet.bbox.json', 'proposal': 'retinanet.bbox.json'}"
      ]
     },
     "execution_count": 17,
     "metadata": {},
     "output_type": "execute_result"
    }
   ],
   "source": [
    "dataset.results2json(results=results,outfile_prefix=\"retinanet\")  # 结果统一保存为coco json"
   ]
  },
  {
   "cell_type": "code",
   "execution_count": 3,
   "metadata": {},
   "outputs": [
    {
     "name": "stdout",
     "output_type": "stream",
     "text": [
      "\n",
      "Evaluating bbox...\n",
      "Loading and preparing results...\n",
      "DONE (t=1.62s)\n",
      "creating index...\n",
      "index created!\n",
      "Running per image evaluation...\n",
      "Evaluate annotation type *bbox*\n",
      "DONE (t=83.80s).\n",
      "Accumulating evaluation results...\n",
      "DONE (t=21.69s).\n",
      "\n",
      " Average Precision  (AP) @[ IoU=0.50:0.95 | area=   all | maxDets=100 ] = 0.341\n",
      " Average Precision  (AP) @[ IoU=0.50      | area=   all | maxDets=1000 ] = 0.524\n",
      " Average Precision  (AP) @[ IoU=0.75      | area=   all | maxDets=1000 ] = 0.362\n",
      " Average Precision  (AP) @[ IoU=0.50:0.95 | area= small | maxDets=1000 ] = 0.195\n",
      " Average Precision  (AP) @[ IoU=0.50:0.95 | area=medium | maxDets=1000 ] = 0.366\n",
      " Average Precision  (AP) @[ IoU=0.50:0.95 | area= large | maxDets=1000 ] = 0.450\n",
      " Average Recall     (AR) @[ IoU=0.50:0.95 | area=   all | maxDets=100 ] = 0.520\n",
      " Average Recall     (AR) @[ IoU=0.50:0.95 | area=   all | maxDets=300 ] = 0.520\n",
      " Average Recall     (AR) @[ IoU=0.50:0.95 | area=   all | maxDets=1000 ] = 0.520\n",
      " Average Recall     (AR) @[ IoU=0.50:0.95 | area= small | maxDets=1000 ] = 0.339\n",
      " Average Recall     (AR) @[ IoU=0.50:0.95 | area=medium | maxDets=1000 ] = 0.555\n",
      " Average Recall     (AR) @[ IoU=0.50:0.95 | area= large | maxDets=1000 ] = 0.670\n",
      "\n"
     ]
    },
    {
     "ename": "UnboundLocalError",
     "evalue": "local variable 'tmp_dir' referenced before assignment",
     "output_type": "error",
     "traceback": [
      "\u001b[0;31m---------------------------------------------------------------------------\u001b[0m",
      "\u001b[0;31mUnboundLocalError\u001b[0m                         Traceback (most recent call last)",
      "\u001b[1;32m/home/geng/tinyml/ppq/benchmark/detection/dataload.ipynb Cell 8\u001b[0m in \u001b[0;36m<cell line: 2>\u001b[0;34m()\u001b[0m\n\u001b[1;32m      <a href='vscode-notebook-cell://ssh-remote%2Bcad02/home/geng/tinyml/ppq/benchmark/detection/dataload.ipynb#X50sdnNjb2RlLXJlbW90ZQ%3D%3D?line=0'>1</a>\u001b[0m result_path \u001b[39m=\u001b[39m \u001b[39m\"\u001b[39m\u001b[39m/home/geng/tinyml/ppq/benchmark/detection/retinanet.bbox.json\u001b[39m\u001b[39m\"\u001b[39m\n\u001b[0;32m----> <a href='vscode-notebook-cell://ssh-remote%2Bcad02/home/geng/tinyml/ppq/benchmark/detection/dataload.ipynb#X50sdnNjb2RlLXJlbW90ZQ%3D%3D?line=1'>2</a>\u001b[0m dataset\u001b[39m.\u001b[39;49mevaluate(results_json_path\u001b[39m=\u001b[39;49mresult_path)\n",
      "File \u001b[0;32m~/tinyml/ppq/benchmark/detection/dataset/coco.py:655\u001b[0m, in \u001b[0;36mCocoDataset.evaluate\u001b[0;34m(self, results, results_json_path, metric, logger, jsonfile_prefix, classwise, proposal_nums, iou_thrs, metric_items)\u001b[0m\n\u001b[1;32m    649\u001b[0m    \u001b[39mraise\u001b[39;00m \u001b[39mValueError\u001b[39;00m(\u001b[39m'\u001b[39m\u001b[39mBoth results and results_json_path are None, you must have one!\u001b[39m\u001b[39m'\u001b[39m)\n\u001b[1;32m    650\u001b[0m eval_results \u001b[39m=\u001b[39m \u001b[39mself\u001b[39m\u001b[39m.\u001b[39mevaluate_det_segm(result_files, coco_gt,\n\u001b[1;32m    651\u001b[0m                                       metrics, logger, classwise,\n\u001b[1;32m    652\u001b[0m                                       proposal_nums, iou_thrs,\n\u001b[1;32m    653\u001b[0m                                       metric_items)\n\u001b[0;32m--> 655\u001b[0m \u001b[39mif\u001b[39;00m tmp_dir \u001b[39mis\u001b[39;00m \u001b[39mnot\u001b[39;00m \u001b[39mNone\u001b[39;00m:\n\u001b[1;32m    656\u001b[0m     tmp_dir\u001b[39m.\u001b[39mcleanup()\n\u001b[1;32m    657\u001b[0m \u001b[39mreturn\u001b[39;00m eval_results\n",
      "\u001b[0;31mUnboundLocalError\u001b[0m: local variable 'tmp_dir' referenced before assignment"
     ]
    }
   ],
   "source": [
    "result_path = \"/home/geng/tinyml/ppq/benchmark/detection/result/retinanet.bbox.json\"\n",
    "dataset.evaluate(results_json_path=result_path)  \n",
    "# dataset.evaluate(results=results) # 直接使用输出结果进行测试  "
   ]
  },
  {
   "cell_type": "code",
   "execution_count": null,
   "metadata": {},
   "outputs": [],
   "source": []
  }
 ],
 "metadata": {
  "kernelspec": {
   "display_name": "Python 3.8.13 ('ppq')",
   "language": "python",
   "name": "python3"
  },
  "language_info": {
   "codemirror_mode": {
    "name": "ipython",
    "version": 3
   },
   "file_extension": ".py",
   "mimetype": "text/x-python",
   "name": "python",
   "nbconvert_exporter": "python",
   "pygments_lexer": "ipython3",
   "version": "3.8.13"
  },
  "orig_nbformat": 4,
  "vscode": {
   "interpreter": {
    "hash": "e1f49b93815805eca9ccc5299d655a62f3a8d0678e274dc3dfeb518f21176dcd"
   }
  }
 },
 "nbformat": 4,
 "nbformat_minor": 2
}
