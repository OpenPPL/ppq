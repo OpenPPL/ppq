{
 "cells": [
  {
   "cell_type": "code",
   "execution_count": 3,
   "metadata": {},
   "outputs": [],
   "source": [
    "from ppq import *\n",
    "from ppq.api import *\n",
    "import os\n",
    "import pandas as pd"
   ]
  },
  {
   "cell_type": "code",
   "execution_count": null,
   "metadata": {},
   "outputs": [],
   "source": [
    "fp32_acc = None\n",
    "# 评估FP32准确度\n",
    "if cfg.GET_FP32_ACC:\n",
    "    fp32_acc,_ = get_fp32_accuracy(model_name)\n",
    "\n",
    "for platform,config in cfg.PLATFORM_CONFIGS.items():\n",
    "\n",
    "    if not os.path.exists(config[\"OutputPath\"]):\n",
    "        os.makedirs(config[\"OutputPath\"])\n",
    "\n",
    "    ppq_acc,ort_acc,platform_acc = None,None,None\n",
    "\n",
    "    print(f'---------------------- PPQ Quantization Test Running with {model_name} on {platform}----------------------')\n",
    "    model_path = f'{os.path.join(cfg.FP32_BASE_PATH, model_name)}-FP32.onnx'\n",
    "    \n",
    "    # 量化onnx模型\n",
    "    ppq_quant_ir = quantize_onnx_model(\n",
    "        onnx_import_file=model_path, calib_dataloader=dataloader, calib_steps=cfg.CALIBRATION_NUM // cfg.BATCHSIZE, \n",
    "        setting=config[\"QuanSetting\"],input_shape=cfg.INPUT_SHAPE, collate_fn=lambda x: x.to(cfg.DEVICE), \n",
    "        platform=config[\"QuantPlatform\"], do_quantize=True)\n",
    "        \n",
    "    # 评估PPQ模拟量化准确度\n",
    "    if cfg.GET_PPQ_ACC:\n",
    "        ppq_acc,_ = get_ppq_accuracy(model_name,platform,ppq_quant_ir)\n",
    "\n",
    "    # 评估ORT模型准确度\n",
    "    if cfg.GET_ORT_ACC:\n",
    "        # 导出ORT模型\n",
    "        export_ppq_graph(\n",
    "            graph = ppq_quant_ir,\n",
    "            platform=TargetPlatform.ORT_OOS_INT8,\n",
    "            graph_save_to=f'{os.path.join(config[\"OutputPath\"], model_name)}-ORT-INT8.onnx')\n",
    "\n",
    "        ort_acc,_ = get_ort_accuracy(model_name,platform,config[\"OutputPath\"])\n",
    "\n",
    "\n",
    "    # 评估目标平台部署准确度\n",
    "    if cfg.GET_PLATFORM_ACC:\n",
    "        # 导出平台模型,暂时无法和ORT一起导出\n",
    "        export_ppq_graph(\n",
    "            graph = ppq_quant_ir,\n",
    "            platform=config[\"ExportPlatform\"],\n",
    "            graph_save_to=f'{os.path.join(config[\"OutputPath\"], model_name)}-{platform}-INT8.onnx')\n",
    "\n",
    "        if platform in {\"OpenVino\",\"TRT\"}:\n",
    "            platform_acc,_  = get_platform_accuracy(model_name,platform,config[\"OutputPath\"])\n",
    "        else:\n",
    "            platform_acc = None\n",
    "\n",
    "\n",
    "    report.append([model_name,platform,fp32_acc,ppq_acc,ort_acc,platform_acc])\n",
    "\n",
    "report = pd.DataFrame(report,columns=[\"model\",\"paltform\",\"fp32_acc\",\"ppq_acc\",\"ort_acc\",\"platform_acc\"])\n",
    "print(\"-------------------测试报告如下---------------------\")\n",
    "print(report)\n",
    "report.to_csv(f\"{cfg.BASE_PATH}/report.csv\",index=False)"
   ]
  },
  {
   "cell_type": "code",
   "execution_count": 2,
   "metadata": {},
   "outputs": [],
   "source": [
    "import os\n",
    "import torch\n",
    "import torchvision.transforms as transforms\n",
    "import torchvision"
   ]
  },
  {
   "cell_type": "code",
   "execution_count": 3,
   "metadata": {},
   "outputs": [
    {
     "name": "stdout",
     "output_type": "stream",
     "text": [
      "loading annotations into memory...\n",
      "Done (t=0.65s)\n",
      "creating index...\n",
      "index created!\n"
     ]
    }
   ],
   "source": [
    "data_path= \"/home/geng/fiftyone/coco-2017/validation/data\"\n",
    "labels_path=\"/home/geng/fiftyone/coco-2017/validation/labels.json\"\n",
    "transform = transforms.Compose([\n",
    "    transforms.Resize(size=(320,320)),\n",
    "    transforms.ToTensor(),\n",
    "])\n",
    "# def collate_fn_coco(batch):\n",
    "#     return tuple(zip(*batch))\n",
    "# coco 数据集存在空标签\n",
    "coco_dataset = torchvision.datasets.CocoDetection(data_path, labels_path, transform=transform)\n",
    "coco_dataloader = torch.utils.data.DataLoader(coco_dataset,batch_size=1,num_workers=0)"
   ]
  },
  {
   "cell_type": "code",
   "execution_count": 3,
   "metadata": {},
   "outputs": [
    {
     "data": {
      "text/plain": [
       "[]"
      ]
     },
     "execution_count": 3,
     "metadata": {},
     "output_type": "execute_result"
    }
   ],
   "source": [
    "coco_dataset[250][1]"
   ]
  },
  {
   "cell_type": "code",
   "execution_count": 6,
   "metadata": {},
   "outputs": [
    {
     "data": {
      "text/plain": [
       "SSD(\n",
       "  (backbone): SSDFeatureExtractorVGG(\n",
       "    (features): Sequential(\n",
       "      (0): Conv2d(3, 64, kernel_size=(3, 3), stride=(1, 1), padding=(1, 1))\n",
       "      (1): ReLU(inplace=True)\n",
       "      (2): Conv2d(64, 64, kernel_size=(3, 3), stride=(1, 1), padding=(1, 1))\n",
       "      (3): ReLU(inplace=True)\n",
       "      (4): MaxPool2d(kernel_size=2, stride=2, padding=0, dilation=1, ceil_mode=False)\n",
       "      (5): Conv2d(64, 128, kernel_size=(3, 3), stride=(1, 1), padding=(1, 1))\n",
       "      (6): ReLU(inplace=True)\n",
       "      (7): Conv2d(128, 128, kernel_size=(3, 3), stride=(1, 1), padding=(1, 1))\n",
       "      (8): ReLU(inplace=True)\n",
       "      (9): MaxPool2d(kernel_size=2, stride=2, padding=0, dilation=1, ceil_mode=False)\n",
       "      (10): Conv2d(128, 256, kernel_size=(3, 3), stride=(1, 1), padding=(1, 1))\n",
       "      (11): ReLU(inplace=True)\n",
       "      (12): Conv2d(256, 256, kernel_size=(3, 3), stride=(1, 1), padding=(1, 1))\n",
       "      (13): ReLU(inplace=True)\n",
       "      (14): Conv2d(256, 256, kernel_size=(3, 3), stride=(1, 1), padding=(1, 1))\n",
       "      (15): ReLU(inplace=True)\n",
       "      (16): MaxPool2d(kernel_size=2, stride=2, padding=0, dilation=1, ceil_mode=True)\n",
       "      (17): Conv2d(256, 512, kernel_size=(3, 3), stride=(1, 1), padding=(1, 1))\n",
       "      (18): ReLU(inplace=True)\n",
       "      (19): Conv2d(512, 512, kernel_size=(3, 3), stride=(1, 1), padding=(1, 1))\n",
       "      (20): ReLU(inplace=True)\n",
       "      (21): Conv2d(512, 512, kernel_size=(3, 3), stride=(1, 1), padding=(1, 1))\n",
       "      (22): ReLU(inplace=True)\n",
       "    )\n",
       "    (extra): ModuleList(\n",
       "      (0): Sequential(\n",
       "        (0): MaxPool2d(kernel_size=2, stride=2, padding=0, dilation=1, ceil_mode=False)\n",
       "        (1): Conv2d(512, 512, kernel_size=(3, 3), stride=(1, 1), padding=(1, 1))\n",
       "        (2): ReLU(inplace=True)\n",
       "        (3): Conv2d(512, 512, kernel_size=(3, 3), stride=(1, 1), padding=(1, 1))\n",
       "        (4): ReLU(inplace=True)\n",
       "        (5): Conv2d(512, 512, kernel_size=(3, 3), stride=(1, 1), padding=(1, 1))\n",
       "        (6): ReLU(inplace=True)\n",
       "        (7): Sequential(\n",
       "          (0): MaxPool2d(kernel_size=3, stride=1, padding=1, dilation=1, ceil_mode=False)\n",
       "          (1): Conv2d(512, 1024, kernel_size=(3, 3), stride=(1, 1), padding=(6, 6), dilation=(6, 6))\n",
       "          (2): ReLU(inplace=True)\n",
       "          (3): Conv2d(1024, 1024, kernel_size=(1, 1), stride=(1, 1))\n",
       "          (4): ReLU(inplace=True)\n",
       "        )\n",
       "      )\n",
       "      (1): Sequential(\n",
       "        (0): Conv2d(1024, 256, kernel_size=(1, 1), stride=(1, 1))\n",
       "        (1): ReLU(inplace=True)\n",
       "        (2): Conv2d(256, 512, kernel_size=(3, 3), stride=(2, 2), padding=(1, 1))\n",
       "        (3): ReLU(inplace=True)\n",
       "      )\n",
       "      (2): Sequential(\n",
       "        (0): Conv2d(512, 128, kernel_size=(1, 1), stride=(1, 1))\n",
       "        (1): ReLU(inplace=True)\n",
       "        (2): Conv2d(128, 256, kernel_size=(3, 3), stride=(2, 2), padding=(1, 1))\n",
       "        (3): ReLU(inplace=True)\n",
       "      )\n",
       "      (3): Sequential(\n",
       "        (0): Conv2d(256, 128, kernel_size=(1, 1), stride=(1, 1))\n",
       "        (1): ReLU(inplace=True)\n",
       "        (2): Conv2d(128, 256, kernel_size=(3, 3), stride=(1, 1))\n",
       "        (3): ReLU(inplace=True)\n",
       "      )\n",
       "      (4): Sequential(\n",
       "        (0): Conv2d(256, 128, kernel_size=(1, 1), stride=(1, 1))\n",
       "        (1): ReLU(inplace=True)\n",
       "        (2): Conv2d(128, 256, kernel_size=(3, 3), stride=(1, 1))\n",
       "        (3): ReLU(inplace=True)\n",
       "      )\n",
       "    )\n",
       "  )\n",
       "  (anchor_generator): DefaultBoxGenerator(aspect_ratios=[[2], [2, 3], [2, 3], [2, 3], [2], [2]], clip=True, scales=[0.07, 0.15, 0.33, 0.51, 0.69, 0.87, 1.05], steps=[8, 16, 32, 64, 100, 300])\n",
       "  (head): SSDHead(\n",
       "    (classification_head): SSDClassificationHead(\n",
       "      (module_list): ModuleList(\n",
       "        (0): Conv2d(512, 364, kernel_size=(3, 3), stride=(1, 1), padding=(1, 1))\n",
       "        (1): Conv2d(1024, 546, kernel_size=(3, 3), stride=(1, 1), padding=(1, 1))\n",
       "        (2): Conv2d(512, 546, kernel_size=(3, 3), stride=(1, 1), padding=(1, 1))\n",
       "        (3): Conv2d(256, 546, kernel_size=(3, 3), stride=(1, 1), padding=(1, 1))\n",
       "        (4): Conv2d(256, 364, kernel_size=(3, 3), stride=(1, 1), padding=(1, 1))\n",
       "        (5): Conv2d(256, 364, kernel_size=(3, 3), stride=(1, 1), padding=(1, 1))\n",
       "      )\n",
       "    )\n",
       "    (regression_head): SSDRegressionHead(\n",
       "      (module_list): ModuleList(\n",
       "        (0): Conv2d(512, 16, kernel_size=(3, 3), stride=(1, 1), padding=(1, 1))\n",
       "        (1): Conv2d(1024, 24, kernel_size=(3, 3), stride=(1, 1), padding=(1, 1))\n",
       "        (2): Conv2d(512, 24, kernel_size=(3, 3), stride=(1, 1), padding=(1, 1))\n",
       "        (3): Conv2d(256, 24, kernel_size=(3, 3), stride=(1, 1), padding=(1, 1))\n",
       "        (4): Conv2d(256, 16, kernel_size=(3, 3), stride=(1, 1), padding=(1, 1))\n",
       "        (5): Conv2d(256, 16, kernel_size=(3, 3), stride=(1, 1), padding=(1, 1))\n",
       "      )\n",
       "    )\n",
       "  )\n",
       "  (transform): GeneralizedRCNNTransform(\n",
       "      Normalize(mean=[0.48235, 0.45882, 0.40784], std=[0.00392156862745098, 0.00392156862745098, 0.00392156862745098])\n",
       "      Resize(min_size=(300,), max_size=300, mode='bilinear')\n",
       "  )\n",
       ")"
      ]
     },
     "execution_count": 6,
     "metadata": {},
     "output_type": "execute_result"
    }
   ],
   "source": [
    "from torchvision.io.image import read_image\n",
    "from torchvision.models.detection import ssd300_vgg16,SSD300_VGG16_Weights\n",
    "from torchvision.utils import draw_bounding_boxes\n",
    "from torchvision.transforms.functional import to_pil_image\n",
    "\n",
    "img = read_image(\"color.jpg\")\n",
    "\n",
    "# Step 1: Initialize model with the best available weights\n",
    "weights = SSD300_VGG16_Weights.COCO_V1\n",
    "model = ssd300_vgg16(weights=weights,score_thresh=0.95)\n",
    "model.eval()\n",
    "\n",
    "# Step 2: Initialize the inference transforms\n",
    "\n",
    "# Step 3: Apply inference preprocessing transforms\n",
    "# Step 4: Use the model and visualize the prediction\n"
   ]
  },
  {
   "cell_type": "code",
   "execution_count": 7,
   "metadata": {},
   "outputs": [
    {
     "name": "stderr",
     "output_type": "stream",
     "text": [
      " 64%|██████▍   | 3213/5000 [10:52<51:21,  1.72s/it]  "
     ]
    },
    {
     "ename": "",
     "evalue": "",
     "output_type": "error",
     "traceback": [
      "\u001b[1;31mCanceled future for execute_request message before replies were done"
     ]
    },
    {
     "ename": "",
     "evalue": "",
     "output_type": "error",
     "traceback": [
      "The Kernel crashed while executing code in the the current cell or a previous cell. Please review the code in the cell(s) to identify a possible cause of the failure. Click <a href='https://aka.ms/vscodeJupyterKernelCrash'>here</a> for more info. View Jupyter <a href='command:jupyter.viewOutput'>log</a> for further details."
     ]
    }
   ],
   "source": [
    "from tqdm import tqdm\n",
    "res = []\n",
    "for images,labels in tqdm(coco_dataloader):\n",
    "    if not labels: continue\n",
    "    output = model(images)[0]\n",
    "    if len(labels) == 0:\n",
    "        print(\"error!\")\n",
    "        print(images,labels)\n",
    "    for box in output[\"boxes\"]:\n",
    "        res.append({\n",
    "            'score': output[\"scores\"],\n",
    "            'category_id': output[\"labels\"],\n",
    "            'bbox': box,\n",
    "            'image_id': labels[0][\"image_id\"]\n",
    "        })"
   ]
  },
  {
   "cell_type": "code",
   "execution_count": 35,
   "metadata": {},
   "outputs": [
    {
     "data": {
      "text/plain": [
       "[{'score': tensor([0.9830], grad_fn=<IndexBackward0>),\n",
       "  'category_id': tensor([72]),\n",
       "  'bbox': tensor([[  3.6491, 115.9564,  71.7471, 186.6564]], grad_fn=<StackBackward0>),\n",
       "  'image_id': tensor([139])}]"
      ]
     },
     "execution_count": 35,
     "metadata": {},
     "output_type": "execute_result"
    }
   ],
   "source": [
    "import json\n",
    "b = json.dump({'annotations':res})\n",
    "with open(\"prediction.json\",\"w\") as f:\n",
    "    f.write(b)"
   ]
  },
  {
   "cell_type": "code",
   "execution_count": 41,
   "metadata": {},
   "outputs": [
    {
     "name": "stdout",
     "output_type": "stream",
     "text": [
      "loading annotations into memory...\n",
      "Done (t=0.95s)\n",
      "creating index...\n",
      "index created!\n",
      "Loading and preparing results...\n",
      "DONE (t=0.14s)\n",
      "creating index...\n",
      "index created!\n",
      "Running per image evaluation...\n",
      "Evaluate annotation type *bbox*\n",
      "DONE (t=25.17s).\n",
      "Accumulating evaluation results...\n",
      "DONE (t=3.15s).\n",
      " Average Precision  (AP) @[ IoU=0.50:0.95 | area=   all | maxDets=100 ] = 1.000\n",
      " Average Precision  (AP) @[ IoU=0.50      | area=   all | maxDets=100 ] = 1.000\n",
      " Average Precision  (AP) @[ IoU=0.75      | area=   all | maxDets=100 ] = 1.000\n",
      " Average Precision  (AP) @[ IoU=0.50:0.95 | area= small | maxDets=100 ] = 1.000\n",
      " Average Precision  (AP) @[ IoU=0.50:0.95 | area=medium | maxDets=100 ] = 1.000\n",
      " Average Precision  (AP) @[ IoU=0.50:0.95 | area= large | maxDets=100 ] = 1.000\n",
      " Average Recall     (AR) @[ IoU=0.50:0.95 | area=   all | maxDets=  1 ] = 0.563\n",
      " Average Recall     (AR) @[ IoU=0.50:0.95 | area=   all | maxDets= 10 ] = 0.976\n",
      " Average Recall     (AR) @[ IoU=0.50:0.95 | area=   all | maxDets=100 ] = 1.000\n",
      " Average Recall     (AR) @[ IoU=0.50:0.95 | area= small | maxDets=100 ] = 1.000\n",
      " Average Recall     (AR) @[ IoU=0.50:0.95 | area=medium | maxDets=100 ] = 1.000\n",
      " Average Recall     (AR) @[ IoU=0.50:0.95 | area= large | maxDets=100 ] = 1.000\n",
      "[1.         1.         1.         1.         1.         1.\n",
      " 0.56273969 0.97560662 1.         1.         1.         1.        ]\n"
     ]
    }
   ],
   "source": [
    "from pycocotools.coco import COCO\n",
    "from pycocotools.cocoeval import COCOeval\n",
    "import json\n",
    "from tempfile import NamedTemporaryFile\n",
    "\n",
    "# json file in coco format, original annotation data\n",
    "anno_file =labels_path\n",
    "coco_gt = COCO(anno_file)\n",
    "\n",
    "# Use GT box as prediction box for calculation, the purpose is to get detection_res\n",
    "with open(anno_file,'r') as f:\n",
    "    json_file = json.load(f)\n",
    "annotations = json_file['annotations']\n",
    "\n",
    "# detection_res = []\n",
    "detection_res = res\n",
    "\n",
    "for anno in annotations:\n",
    "    detection_res.append({\n",
    "        'score': 1.,\n",
    "        'category_id': anno['category_id'],\n",
    "        'bbox': anno['bbox'],\n",
    "        'image_id': anno['image_id']\n",
    "    })\n",
    "with NamedTemporaryFile(suffix='.json') as tf:\n",
    "    # Due to subsequent needs, first convert detection_res to binary and then write it to the json file\n",
    "    content = json.dumps(detection_res).encode(encoding='utf-8')\n",
    "    tf.write(content)\n",
    "    res_path = tf.name\n",
    "\n",
    "    # loadRes will generate a new COCO type instance based on coco_gt and return\n",
    "    coco_dt = coco_gt.loadRes(res_path)\n",
    "\n",
    "    cocoEval = COCOeval(coco_gt, coco_dt,'bbox')\n",
    "    cocoEval.evaluate()\n",
    "    cocoEval.accumulate()\n",
    "    cocoEval.summarize()\n",
    "\n",
    "print(cocoEval.stats)"
   ]
  },
  {
   "cell_type": "code",
   "execution_count": null,
   "metadata": {},
   "outputs": [],
   "source": []
  }
 ],
 "metadata": {
  "kernelspec": {
   "display_name": "Python 3.8.13 ('ppq')",
   "language": "python",
   "name": "python3"
  },
  "language_info": {
   "codemirror_mode": {
    "name": "ipython",
    "version": 3
   },
   "file_extension": ".py",
   "mimetype": "text/x-python",
   "name": "python",
   "nbconvert_exporter": "python",
   "pygments_lexer": "ipython3",
   "version": "3.8.13"
  },
  "orig_nbformat": 4,
  "vscode": {
   "interpreter": {
    "hash": "e1f49b93815805eca9ccc5299d655a62f3a8d0678e274dc3dfeb518f21176dcd"
   }
  }
 },
 "nbformat": 4,
 "nbformat_minor": 2
}
