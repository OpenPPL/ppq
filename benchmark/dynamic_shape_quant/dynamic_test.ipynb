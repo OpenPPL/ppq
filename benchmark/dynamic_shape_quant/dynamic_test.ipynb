{
 "cells": [
  {
   "cell_type": "markdown",
   "metadata": {},
   "source": [
    "# 动态ONNX推理量化测试"
   ]
  },
  {
   "cell_type": "markdown",
   "metadata": {},
   "source": [
    "## 1. FP32精度测试 "
   ]
  },
  {
   "cell_type": "code",
   "execution_count": 1,
   "metadata": {},
   "outputs": [],
   "source": [
    "import numpy as np\n",
    "from PIL import Image\n",
    "import cv2\n",
    "from tqdm import tqdm\n",
    "\n",
    "def preprocess(image):\n",
    "    channel_num = image.layers  #通道数\n",
    "\n",
    "    # Resize\n",
    "    ratio = 800.0 / min(image.size[0], image.size[1])\n",
    "    image = image.resize((int(ratio * image.size[0]), int(ratio * image.size[1])),  Image.Resampling.BILINEAR)\n",
    "    \n",
    "    if channel_num == 1:  #灰度图像转三通道\n",
    "        # print(\"trans\")\n",
    "        image = cv2.cvtColor(np.array(image) , cv2.COLOR_GRAY2RGB)\n",
    "   \n",
    "    # Convert to BGR\n",
    "    image = np.array(image)[:, :, [2, 1, 0]].astype('float32')\n",
    "\n",
    "    # HWC -> CHW\n",
    "    image = np.transpose(image, [2, 0, 1])\n",
    "\n",
    "    # Normalize\n",
    "    mean_vec = np.array([102.9801, 115.9465, 122.7717])\n",
    "    for i in range(image.shape[0]):\n",
    "        image[i, :, :] = image[i, :, :] - mean_vec[i]\n",
    "\n",
    "    # Pad to be divisible of 32\n",
    "    import math\n",
    "    padded_h = int(math.ceil(image.shape[1] / 32) * 32)\n",
    "    padded_w = int(math.ceil(image.shape[2] / 32) * 32)\n",
    "\n",
    "    padded_image = np.zeros((3, padded_h, padded_w), dtype=np.float32)\n",
    "    padded_image[:, :image.shape[1], :image.shape[2]] = image\n",
    "    image = padded_image\n",
    "\n",
    "    return image\n"
   ]
  },
  {
   "cell_type": "code",
   "execution_count": 3,
   "metadata": {},
   "outputs": [],
   "source": [
    "with open(\"./images_list.txt\",\"r\") as f:\n",
    "   img_path_list =  f.readlines()\n",
    "img_path_list  = [x.rstrip() for x in img_path_list]\n",
    "# img_path_list  #数据集路径"
   ]
  },
  {
   "cell_type": "code",
   "execution_count": 3,
   "metadata": {},
   "outputs": [
    {
     "data": {
      "text/plain": [
       "(427, 640)"
      ]
     },
     "execution_count": 3,
     "metadata": {},
     "output_type": "execute_result"
    }
   ],
   "source": [
    "img = Image.open(img_path_list[0])\n",
    "img.size[::-1]"
   ]
  },
  {
   "cell_type": "code",
   "execution_count": 5,
   "metadata": {},
   "outputs": [
    {
     "name": "stderr",
     "output_type": "stream",
     "text": [
      "100%|██████████| 4952/4952 [02:39<00:00, 30.95it/s]\n"
     ]
    }
   ],
   "source": [
    "height = []\n",
    "width = []\n",
    "for path in tqdm(img_path_list):\n",
    "    img = Image.open(path)\n",
    "    input_tensor = preprocess(img)\n",
    "    height.append(input_tensor.shape[1])\n",
    "    width.append(input_tensor.shape[2])"
   ]
  },
  {
   "cell_type": "code",
   "execution_count": 7,
   "metadata": {},
   "outputs": [
    {
     "data": {
      "text/html": [
       "<div>\n",
       "<style scoped>\n",
       "    .dataframe tbody tr th:only-of-type {\n",
       "        vertical-align: middle;\n",
       "    }\n",
       "\n",
       "    .dataframe tbody tr th {\n",
       "        vertical-align: top;\n",
       "    }\n",
       "\n",
       "    .dataframe thead th {\n",
       "        text-align: right;\n",
       "    }\n",
       "</style>\n",
       "<table border=\"1\" class=\"dataframe\">\n",
       "  <thead>\n",
       "    <tr style=\"text-align: right;\">\n",
       "      <th></th>\n",
       "      <th>height</th>\n",
       "      <th>width</th>\n",
       "    </tr>\n",
       "  </thead>\n",
       "  <tbody>\n",
       "    <tr>\n",
       "      <th>count</th>\n",
       "      <td>4952.000000</td>\n",
       "      <td>4952.000000</td>\n",
       "    </tr>\n",
       "    <tr>\n",
       "      <th>mean</th>\n",
       "      <td>884.025848</td>\n",
       "      <td>1067.825525</td>\n",
       "    </tr>\n",
       "    <tr>\n",
       "      <th>std</th>\n",
       "      <td>158.063905</td>\n",
       "      <td>208.652261</td>\n",
       "    </tr>\n",
       "    <tr>\n",
       "      <th>min</th>\n",
       "      <td>800.000000</td>\n",
       "      <td>800.000000</td>\n",
       "    </tr>\n",
       "    <tr>\n",
       "      <th>25%</th>\n",
       "      <td>800.000000</td>\n",
       "      <td>800.000000</td>\n",
       "    </tr>\n",
       "    <tr>\n",
       "      <th>50%</th>\n",
       "      <td>800.000000</td>\n",
       "      <td>1088.000000</td>\n",
       "    </tr>\n",
       "    <tr>\n",
       "      <th>75%</th>\n",
       "      <td>800.000000</td>\n",
       "      <td>1216.000000</td>\n",
       "    </tr>\n",
       "    <tr>\n",
       "      <th>max</th>\n",
       "      <td>2112.000000</td>\n",
       "      <td>3232.000000</td>\n",
       "    </tr>\n",
       "  </tbody>\n",
       "</table>\n",
       "</div>"
      ],
      "text/plain": [
       "            height        width\n",
       "count  4952.000000  4952.000000\n",
       "mean    884.025848  1067.825525\n",
       "std     158.063905   208.652261\n",
       "min     800.000000   800.000000\n",
       "25%     800.000000   800.000000\n",
       "50%     800.000000  1088.000000\n",
       "75%     800.000000  1216.000000\n",
       "max    2112.000000  3232.000000"
      ]
     },
     "execution_count": 7,
     "metadata": {},
     "output_type": "execute_result"
    }
   ],
   "source": [
    "import pandas as pd\n",
    "df = pd.DataFrame({\"height\":height,\"width\":width})\n",
    "df.describe()"
   ]
  },
  {
   "cell_type": "code",
   "execution_count": 3,
   "metadata": {},
   "outputs": [
    {
     "name": "stdout",
     "output_type": "stream",
     "text": [
      "loading annotations into memory...\n",
      "Done (t=0.84s)\n",
      "creating index...\n",
      "index created!\n"
     ]
    }
   ],
   "source": [
    "import sys\n",
    "sys.path.append(\"../detection\")\n",
    "from utils import generate_calib_data\n",
    "from torch.utils.data import DataLoader\n",
    "from dataset import build_dataset\n",
    "from mmcv.parallel import collate\n",
    "\n",
    "\n",
    "# 数据配置文件\n",
    "ann_file = \"/home/geng/fiftyone/coco-2017/validation/labels.json\"\n",
    "data_root = '/home/geng/fiftyone/coco-2017/validation/data/'  # 数据的根路径。\n",
    "batch_size = 1\n",
    "input_size = (480,640)  #或者 (1,3,800,1216)\n",
    "\n",
    "\n",
    "# 数据加载\n",
    "dataset = build_dataset(ann_file=ann_file,data_root=data_root,input_size=input_size,keep_ratio=False)\n",
    "dataloader = DataLoader(dataset,batch_size=batch_size,collate_fn=collate)\n",
    "\n",
    "generate_calib_data(dataset=dataset,seed_num=0,calib_num=512)"
   ]
  },
  {
   "cell_type": "code",
   "execution_count": null,
   "metadata": {},
   "outputs": [],
   "source": [
    "from "
   ]
  },
  {
   "cell_type": "code",
   "execution_count": 10,
   "metadata": {},
   "outputs": [
    {
     "ename": "Fail",
     "evalue": "[ONNXRuntimeError] : 1 : FAIL : Load model from /home/geng/tinyml/ppq/benchmark/detection/dynamic_input_test/FasterRCNN-NMS-FP32.onnx failed:Fatal error: TRTBatchedNMS is not a registered function/op",
     "output_type": "error",
     "traceback": [
      "\u001b[0;31m---------------------------------------------------------------------------\u001b[0m",
      "\u001b[0;31mFail\u001b[0m                                      Traceback (most recent call last)",
      "\u001b[1;32m/home/geng/tinyml/ppq/benchmark/detection/dynamic_input_test/dynamic_test.ipynb Cell 8\u001b[0m in \u001b[0;36m<cell line: 10>\u001b[0;34m()\u001b[0m\n\u001b[1;32m      <a href='vscode-notebook-cell://ssh-remote%2Bcad02/home/geng/tinyml/ppq/benchmark/detection/dynamic_input_test/dynamic_test.ipynb#X10sdnNjb2RlLXJlbW90ZQ%3D%3D?line=7'>8</a>\u001b[0m onnxruntime_model_path \u001b[39m=\u001b[39m \u001b[39m\"\u001b[39m\u001b[39m/home/geng/tinyml/ppq/benchmark/detection/dynamic_input_test/FasterRCNN-NMS-FP32.onnx\u001b[39m\u001b[39m\"\u001b[39m\n\u001b[1;32m      <a href='vscode-notebook-cell://ssh-remote%2Bcad02/home/geng/tinyml/ppq/benchmark/detection/dynamic_input_test/dynamic_test.ipynb#X10sdnNjb2RlLXJlbW90ZQ%3D%3D?line=8'>9</a>\u001b[0m providers \u001b[39m=\u001b[39m [\u001b[39m'\u001b[39m\u001b[39mCUDAExecutionProvider\u001b[39m\u001b[39m'\u001b[39m]  \u001b[39m#临时修\u001b[39;00m\n\u001b[0;32m---> <a href='vscode-notebook-cell://ssh-remote%2Bcad02/home/geng/tinyml/ppq/benchmark/detection/dynamic_input_test/dynamic_test.ipynb#X10sdnNjb2RlLXJlbW90ZQ%3D%3D?line=9'>10</a>\u001b[0m sess \u001b[39m=\u001b[39m onnxruntime\u001b[39m.\u001b[39;49mInferenceSession(path_or_bytes\u001b[39m=\u001b[39;49monnxruntime_model_path, providers\u001b[39m=\u001b[39;49mproviders)\n\u001b[1;32m     <a href='vscode-notebook-cell://ssh-remote%2Bcad02/home/geng/tinyml/ppq/benchmark/detection/dynamic_input_test/dynamic_test.ipynb#X10sdnNjb2RlLXJlbW90ZQ%3D%3D?line=10'>11</a>\u001b[0m input_placeholder_name \u001b[39m=\u001b[39m sess\u001b[39m.\u001b[39mget_inputs()[\u001b[39m0\u001b[39m]\u001b[39m.\u001b[39mname\n\u001b[1;32m     <a href='vscode-notebook-cell://ssh-remote%2Bcad02/home/geng/tinyml/ppq/benchmark/detection/dynamic_input_test/dynamic_test.ipynb#X10sdnNjb2RlLXJlbW90ZQ%3D%3D?line=12'>13</a>\u001b[0m outputs \u001b[39m=\u001b[39m []\n",
      "File \u001b[0;32m~/anaconda3/envs/ppq/lib/python3.8/site-packages/onnxruntime/capi/onnxruntime_inference_collection.py:335\u001b[0m, in \u001b[0;36mInferenceSession.__init__\u001b[0;34m(self, path_or_bytes, sess_options, providers, provider_options, **kwargs)\u001b[0m\n\u001b[1;32m    332\u001b[0m disabled_optimizers \u001b[39m=\u001b[39m kwargs[\u001b[39m'\u001b[39m\u001b[39mdisabled_optimizers\u001b[39m\u001b[39m'\u001b[39m] \u001b[39mif\u001b[39;00m \u001b[39m'\u001b[39m\u001b[39mdisabled_optimizers\u001b[39m\u001b[39m'\u001b[39m \u001b[39min\u001b[39;00m kwargs \u001b[39melse\u001b[39;00m \u001b[39mNone\u001b[39;00m\n\u001b[1;32m    334\u001b[0m \u001b[39mtry\u001b[39;00m:\n\u001b[0;32m--> 335\u001b[0m     \u001b[39mself\u001b[39;49m\u001b[39m.\u001b[39;49m_create_inference_session(providers, provider_options, disabled_optimizers)\n\u001b[1;32m    336\u001b[0m \u001b[39mexcept\u001b[39;00m \u001b[39mValueError\u001b[39;00m:\n\u001b[1;32m    337\u001b[0m     \u001b[39mif\u001b[39;00m \u001b[39mself\u001b[39m\u001b[39m.\u001b[39m_enable_fallback:\n",
      "File \u001b[0;32m~/anaconda3/envs/ppq/lib/python3.8/site-packages/onnxruntime/capi/onnxruntime_inference_collection.py:368\u001b[0m, in \u001b[0;36mInferenceSession._create_inference_session\u001b[0;34m(self, providers, provider_options, disabled_optimizers)\u001b[0m\n\u001b[1;32m    366\u001b[0m session_options \u001b[39m=\u001b[39m \u001b[39mself\u001b[39m\u001b[39m.\u001b[39m_sess_options \u001b[39mif\u001b[39;00m \u001b[39mself\u001b[39m\u001b[39m.\u001b[39m_sess_options \u001b[39melse\u001b[39;00m C\u001b[39m.\u001b[39mget_default_session_options()\n\u001b[1;32m    367\u001b[0m \u001b[39mif\u001b[39;00m \u001b[39mself\u001b[39m\u001b[39m.\u001b[39m_model_path:\n\u001b[0;32m--> 368\u001b[0m     sess \u001b[39m=\u001b[39m C\u001b[39m.\u001b[39;49mInferenceSession(session_options, \u001b[39mself\u001b[39;49m\u001b[39m.\u001b[39;49m_model_path, \u001b[39mTrue\u001b[39;49;00m, \u001b[39mself\u001b[39;49m\u001b[39m.\u001b[39;49m_read_config_from_model)\n\u001b[1;32m    369\u001b[0m \u001b[39melse\u001b[39;00m:\n\u001b[1;32m    370\u001b[0m     sess \u001b[39m=\u001b[39m C\u001b[39m.\u001b[39mInferenceSession(session_options, \u001b[39mself\u001b[39m\u001b[39m.\u001b[39m_model_bytes, \u001b[39mFalse\u001b[39;00m, \u001b[39mself\u001b[39m\u001b[39m.\u001b[39m_read_config_from_model)\n",
      "\u001b[0;31mFail\u001b[0m: [ONNXRuntimeError] : 1 : FAIL : Load model from /home/geng/tinyml/ppq/benchmark/detection/dynamic_input_test/FasterRCNN-NMS-FP32.onnx failed:Fatal error: TRTBatchedNMS is not a registered function/op"
     ]
    }
   ],
   "source": [
    "import onnxruntime\n",
    "import os\n",
    "\n",
    "# ort_custom_op_path = \"/home/geng/tinyml/mmdeploy/build/lib/libmmdeploy_onnxruntime_ops.so\"\n",
    "# session_options = onnxruntime.SessionOptions()\n",
    "# session_options.register_custom_ops_library(ort_custom_op_path)\n",
    "\n",
    "onnxruntime_model_path = \"/home/geng/tinyml/ppq/benchmark/detection/dynamic_input_test/FasterRCNN-NMS-FP32.onnx\"\n",
    "providers = ['CUDAExecutionProvider']  #\n",
    "sess = onnxruntime.InferenceSession(path_or_bytes=onnxruntime_model_path, providers=providers)\n",
    "input_placeholder_name = sess.get_inputs()[0].name\n",
    "\n",
    "outputs = []\n",
    "for img_path in tqdm(img_path_list):\n",
    "    img = Image.open(img_path)\n",
    "    try:\n",
    "        input_tensor = preprocess(img)\n",
    "    except IndexError:\n",
    "        print(f\"error happend in precess {img_path}\")\n",
    "        break\n",
    "    output = sess.run(input_feed={input_placeholder_name: input_tensor}, output_names=None)\n",
    "    outputs.append({\"file_name\":img_path,\"img_size\":img.size,\"output\":output})\n",
    "    break"
   ]
  },
  {
   "cell_type": "code",
   "execution_count": 10,
   "metadata": {},
   "outputs": [],
   "source": [
    "import os\n",
    "os.getcwd()\n",
    "os.chdir(\"..\")"
   ]
  },
  {
   "cell_type": "code",
   "execution_count": 7,
   "metadata": {},
   "outputs": [],
   "source": [
    "# 测试实际检测效果\n",
    "# import matplotlib.pyplot as plt\n",
    "# import matplotlib.patches as patches\n",
    "# from dataset import coco_classes\n",
    "\n",
    "# idx = 0\n",
    "# classes = coco_classes()\n",
    "\n",
    "# def display_objdetect_image(image, boxes, labels, scores, score_threshold=0.7):\n",
    "#     # Resize boxes\n",
    "#     ratio = 800.0 / min(image.size[0], image.size[1])\n",
    "#     boxes /= ratio\n",
    "\n",
    "#     _, ax = plt.subplots(1, figsize=(12,9))\n",
    "#     image = np.array(image)\n",
    "#     ax.imshow(image)\n",
    "\n",
    "#     # Showing boxes with score > 0.7\n",
    "#     for box, label, score in zip(boxes, labels, scores):\n",
    "#         if score > score_threshold:\n",
    "#             rect = patches.Rectangle((box[0], box[1]), box[2] - box[0], box[3] - box[1], linewidth=1, edgecolor='b', facecolor='none')\n",
    "#             ax.annotate(classes[label-1] + ':' + str(np.round(score, 2)), (box[0], box[1]), color='w', fontsize=12)\n",
    "#             ax.add_patch(rect)\n",
    "#     plt.show()\n",
    "# img = Image.open(img_path_list[idx])\n",
    "# display_objdetect_image(img, *outputs[idx][\"output\"])"
   ]
  },
  {
   "cell_type": "code",
   "execution_count": 3,
   "metadata": {},
   "outputs": [
    {
     "ename": "NameError",
     "evalue": "name 'Image' is not defined",
     "output_type": "error",
     "traceback": [
      "\u001b[0;31m---------------------------------------------------------------------------\u001b[0m",
      "\u001b[0;31mNameError\u001b[0m                                 Traceback (most recent call last)",
      "\u001b[1;32m/home/geng/tinyml/ppq/benchmark/dynamic_input_model/dynamic_test.ipynb Cell 11\u001b[0m in \u001b[0;36m<cell line: 63>\u001b[0;34m()\u001b[0m\n\u001b[1;32m     <a href='vscode-notebook-cell://ssh-remote%2Bcad02/home/geng/tinyml/ppq/benchmark/dynamic_input_model/dynamic_test.ipynb#X13sdnNjb2RlLXJlbW90ZQ%3D%3D?line=59'>60</a>\u001b[0m     ax\u001b[39m.\u001b[39mimshow(image)\n\u001b[1;32m     <a href='vscode-notebook-cell://ssh-remote%2Bcad02/home/geng/tinyml/ppq/benchmark/dynamic_input_model/dynamic_test.ipynb#X13sdnNjb2RlLXJlbW90ZQ%3D%3D?line=60'>61</a>\u001b[0m     plt\u001b[39m.\u001b[39mshow()\n\u001b[0;32m---> <a href='vscode-notebook-cell://ssh-remote%2Bcad02/home/geng/tinyml/ppq/benchmark/dynamic_input_model/dynamic_test.ipynb#X13sdnNjb2RlLXJlbW90ZQ%3D%3D?line=62'>63</a>\u001b[0m img \u001b[39m=\u001b[39m Image\u001b[39m.\u001b[39mopen(img_path_list[idx])\n\u001b[1;32m     <a href='vscode-notebook-cell://ssh-remote%2Bcad02/home/geng/tinyml/ppq/benchmark/dynamic_input_model/dynamic_test.ipynb#X13sdnNjb2RlLXJlbW90ZQ%3D%3D?line=63'>64</a>\u001b[0m display_objdetect_image(img,  \u001b[39m*\u001b[39moutputs[idx][\u001b[39m\"\u001b[39m\u001b[39moutput\u001b[39m\u001b[39m\"\u001b[39m])\n",
      "\u001b[0;31mNameError\u001b[0m: name 'Image' is not defined"
     ]
    }
   ],
   "source": [
    "# 测试分割结果\n",
    "import sys\n",
    "sys.path.append(\"../detection/\")\n",
    "\n",
    "import matplotlib.pyplot as plt\n",
    "import matplotlib.patches as patches\n",
    "from dataset import coco_classes\n",
    "import pycocotools.mask as mask_util\n",
    "import cv2\n",
    "\n",
    "\n",
    "idx = 0\n",
    "classes = coco_classes()\n",
    "tmp = None\n",
    "def display_objdetect_image(image, boxes, labels, scores, masks, score_threshold=0.7):\n",
    "    # Resize boxes\n",
    "    ratio = 800.0 / min(image.size[0], image.size[1])\n",
    "    boxes /= ratio\n",
    "\n",
    "    _, ax = plt.subplots(1, figsize=(12,9))\n",
    "\n",
    "    image = np.array(image)\n",
    "\n",
    "    for mask, box, label, score in zip(masks, boxes, labels, scores):\n",
    "        # Showing boxes with score > 0.7\n",
    "        if score <= score_threshold:\n",
    "            continue\n",
    "        \n",
    "        # Finding contour based on mask\n",
    "        mask = mask[0, :, :, None]\n",
    "        int_box = [int(i) for i in box]\n",
    "        mask = cv2.resize(mask, (int_box[2]-int_box[0]+1, int_box[3]-int_box[1]+1))\n",
    "        mask = mask > 0.5\n",
    "        im_mask = np.zeros((image.shape[0], image.shape[1]), dtype=np.uint8)\n",
    "        x_0 = max(int_box[0], 0)\n",
    "        x_1 = min(int_box[2] + 1, image.shape[1])\n",
    "        y_0 = max(int_box[1], 0)\n",
    "        y_1 = min(int_box[3] + 1, image.shape[0])\n",
    "        mask_y_0 = max(y_0 - box[1], 0)\n",
    "        mask_y_1 = mask_y_0 + y_1 - y_0\n",
    "        mask_x_0 = max(x_0 - box[0], 0)\n",
    "        mask_x_1 = mask_x_0 + x_1 - x_0\n",
    "        im_mask[y_0:y_1, x_0:x_1] = mask[\n",
    "            mask_y_0 : mask_y_1, mask_x_0 : mask_x_1\n",
    "        ]\n",
    "        im_mask = im_mask[:, :, None]\n",
    "        print(im_mask.shape)\n",
    "\n",
    "        # OpenCV version 4.x\n",
    "        contours, hierarchy = cv2.findContours(\n",
    "            im_mask, cv2.RETR_TREE, cv2.CHAIN_APPROX_SIMPLE\n",
    "        )\n",
    "\n",
    "        image = cv2.drawContours(image, contours, -1, 25, 3)\n",
    "\n",
    "        rect = patches.Rectangle((box[0], box[1]), box[2] - box[0], box[3] - box[1], linewidth=1, edgecolor='b', facecolor='none')\n",
    "        ax.annotate(classes[label-1] + ':' + str(np.round(score, 2)), (box[0], box[1]), color='w', fontsize=12)\n",
    "        ax.add_patch(rect)\n",
    "\n",
    "    ax.imshow(image)\n",
    "    plt.show()\n",
    "    \n",
    "img = Image.open(img_path_list[idx])\n",
    "display_objdetect_image(img,  *outputs[idx][\"output\"])"
   ]
  },
  {
   "cell_type": "code",
   "execution_count": 7,
   "metadata": {},
   "outputs": [],
   "source": [
    "import numpy as np\n",
    "from itertools import groupby\n",
    "def binary_mask_to_rle(binary_mask):\n",
    "    rle = {'counts': [], 'size': list(binary_mask.shape)}\n",
    "    counts = rle.get('counts')\n",
    "    for i, (value, elements) in enumerate(groupby(binary_mask.ravel(order='F'))):\n",
    "        if i == 0 and value == 1:\n",
    "            counts.append(0)\n",
    "        counts.append(len(list(elements)))\n",
    "    return rle\n",
    "\n",
    "\n",
    "\n",
    "\n",
    "# rle = binary_mask_to_rle(np.squeeze(tmp))"
   ]
  },
  {
   "cell_type": "code",
   "execution_count": 12,
   "metadata": {},
   "outputs": [
    {
     "data": {
      "text/plain": [
       "(640, 427)"
      ]
     },
     "execution_count": 12,
     "metadata": {},
     "output_type": "execute_result"
    }
   ],
   "source": [
    "img = Image.open(img_path_list[0])\n",
    "img.size"
   ]
  },
  {
   "cell_type": "code",
   "execution_count": 5,
   "metadata": {},
   "outputs": [
    {
     "name": "stderr",
     "output_type": "stream",
     "text": [
      "100%|██████████| 4952/4952 [00:02<00:00, 2184.16it/s]\n"
     ]
    }
   ],
   "source": [
    "# import torch\n",
    "# class_num = 80\n",
    "\n",
    "# # 目标检测格式化\n",
    "# results = []\n",
    "# for output in tqdm(outputs):\n",
    "#     bboxs,labels,scores = output[\"output\"]\n",
    "#     result = [[] for _ in range(class_num)]\n",
    "#     ratio = 800.0 / min(output[\"img_size\"][0], output[\"img_size\"][1])\n",
    "#     bboxs /= ratio\n",
    "    \n",
    "#     bboxs = torch.cat((torch.from_numpy(bboxs),torch.from_numpy(scores.reshape((-1,1)))),dim=1)\n",
    "#     for i,label in enumerate(labels):\n",
    "#         result[label-1].append(bboxs[i])\n",
    "#     results.append(result)"
   ]
  },
  {
   "cell_type": "code",
   "execution_count": 11,
   "metadata": {},
   "outputs": [],
   "source": [
    "bboxs,labels,scores,masks = outputs[0][\"output\"]"
   ]
  },
  {
   "cell_type": "code",
   "execution_count": 24,
   "metadata": {},
   "outputs": [
    {
     "data": {
      "text/plain": [
       "(1, 28, 1, 28)"
      ]
     },
     "execution_count": 24,
     "metadata": {},
     "output_type": "execute_result"
    }
   ],
   "source": [
    "mask = masks[0, :, :, None]\n",
    "mask.shape"
   ]
  },
  {
   "cell_type": "code",
   "execution_count": 21,
   "metadata": {},
   "outputs": [
    {
     "data": {
      "text/plain": [
       "(100, 1, 28, 28)"
      ]
     },
     "execution_count": 21,
     "metadata": {},
     "output_type": "execute_result"
    }
   ],
   "source": [
    "masks.shape"
   ]
  },
  {
   "cell_type": "code",
   "execution_count": 7,
   "metadata": {},
   "outputs": [
    {
     "name": "stderr",
     "output_type": "stream",
     "text": [
      "  0%|          | 0/1 [00:00<?, ?it/s]"
     ]
    },
    {
     "name": "stdout",
     "output_type": "stream",
     "text": [
      "(154, 63) (640, 427)\n"
     ]
    },
    {
     "name": "stderr",
     "output_type": "stream",
     "text": [
      "\n"
     ]
    },
    {
     "ename": "ValueError",
     "evalue": "ndarray is not Fortran contiguous",
     "output_type": "error",
     "traceback": [
      "\u001b[0;31m---------------------------------------------------------------------------\u001b[0m",
      "\u001b[0;31mValueError\u001b[0m                                Traceback (most recent call last)",
      "\u001b[1;32m/home/geng/tinyml/ppq/benchmark/detection/dynamic_test/dynamic_test.ipynb Cell 17\u001b[0m in \u001b[0;36m<cell line: 10>\u001b[0;34m()\u001b[0m\n\u001b[1;32m     <a href='vscode-notebook-cell://ssh-remote%2Bcad02/home/geng/tinyml/ppq/benchmark/detection/dynamic_test/dynamic_test.ipynb#X22sdnNjb2RlLXJlbW90ZQ%3D%3D?line=33'>34</a>\u001b[0m mask_x_1 \u001b[39m=\u001b[39m mask_x_0 \u001b[39m+\u001b[39m x_1 \u001b[39m-\u001b[39m x_0\n\u001b[1;32m     <a href='vscode-notebook-cell://ssh-remote%2Bcad02/home/geng/tinyml/ppq/benchmark/detection/dynamic_test/dynamic_test.ipynb#X22sdnNjb2RlLXJlbW90ZQ%3D%3D?line=34'>35</a>\u001b[0m im_mask[y_0:y_1, x_0:x_1] \u001b[39m=\u001b[39m mask[mask_y_0 : mask_y_1, mask_x_0 : mask_x_1]  \u001b[39m#原图尺寸的掩膜\u001b[39;00m\n\u001b[0;32m---> <a href='vscode-notebook-cell://ssh-remote%2Bcad02/home/geng/tinyml/ppq/benchmark/detection/dynamic_test/dynamic_test.ipynb#X22sdnNjb2RlLXJlbW90ZQ%3D%3D?line=36'>37</a>\u001b[0m rle \u001b[39m=\u001b[39m mk\u001b[39m.\u001b[39;49mencode(im_mask)\n\u001b[1;32m     <a href='vscode-notebook-cell://ssh-remote%2Bcad02/home/geng/tinyml/ppq/benchmark/detection/dynamic_test/dynamic_test.ipynb#X22sdnNjb2RlLXJlbW90ZQ%3D%3D?line=37'>38</a>\u001b[0m \u001b[39mprint\u001b[39m(rle)\n\u001b[1;32m     <a href='vscode-notebook-cell://ssh-remote%2Bcad02/home/geng/tinyml/ppq/benchmark/detection/dynamic_test/dynamic_test.ipynb#X22sdnNjb2RlLXJlbW90ZQ%3D%3D?line=39'>40</a>\u001b[0m result_seg[label\u001b[39m-\u001b[39m\u001b[39m1\u001b[39m]\u001b[39m.\u001b[39mappend(rle)\n",
      "File \u001b[0;32m~/anaconda3/envs/ppq/lib/python3.8/site-packages/pycocotools/mask.py:85\u001b[0m, in \u001b[0;36mencode\u001b[0;34m(bimask)\u001b[0m\n\u001b[1;32m     83\u001b[0m \u001b[39melif\u001b[39;00m \u001b[39mlen\u001b[39m(bimask\u001b[39m.\u001b[39mshape) \u001b[39m==\u001b[39m \u001b[39m2\u001b[39m:\n\u001b[1;32m     84\u001b[0m     h, w \u001b[39m=\u001b[39m bimask\u001b[39m.\u001b[39mshape\n\u001b[0;32m---> 85\u001b[0m     \u001b[39mreturn\u001b[39;00m _mask\u001b[39m.\u001b[39;49mencode(bimask\u001b[39m.\u001b[39;49mreshape((h, w, \u001b[39m1\u001b[39;49m), order\u001b[39m=\u001b[39;49m\u001b[39m'\u001b[39;49m\u001b[39mF\u001b[39;49m\u001b[39m'\u001b[39;49m))[\u001b[39m0\u001b[39m]\n",
      "File \u001b[0;32mpycocotools/_mask.pyx:137\u001b[0m, in \u001b[0;36mpycocotools._mask.encode\u001b[0;34m()\u001b[0m\n",
      "\u001b[0;31mValueError\u001b[0m: ndarray is not Fortran contiguous"
     ]
    }
   ],
   "source": [
    "import torch\n",
    "class_num = 80\n",
    "\n",
    "import  pycocotools.mask as mk\n",
    "\n",
    "\n",
    "\n",
    "# 实例分割格式化\n",
    "results = []\n",
    "for output in tqdm(outputs): #遍历每张图片\n",
    "\n",
    "    bboxs,labels,scores,masks = output[\"output\"]  # 每个图片有若干个bbox\n",
    "    result_det = [[] for _ in range(class_num)]\n",
    "    result_seg = [[] for _ in range(class_num)]\n",
    "\n",
    "    ratio = 800.0 / min(output[\"img_size\"][0], output[\"img_size\"][1])\n",
    "    bboxs /= ratio   \n",
    "\n",
    "    for mask, box, label in zip(masks, bboxs, labels):\n",
    "        mask = mask[0, :, :, None]\n",
    "        int_box = [int(i) for i in box]\n",
    "        mask = cv2.resize(mask, (int_box[2]-int_box[0]+1, int_box[3]-int_box[1]+1))\n",
    "        mask = mask > 0.5\n",
    "        \n",
    "        im_mask = np.zeros((output[\"img_size\"][0], output[\"img_size\"][1]), dtype=np.uint8)\n",
    "        print(mask.shape,im_mask.shape)\n",
    "        x_0 = max(int_box[0], 0)\n",
    "        x_1 = min(int_box[2] + 1, output[\"img_size\"][1])\n",
    "        y_0 = max(int_box[1], 0)\n",
    "        y_1 = min(int_box[3] + 1, output[\"img_size\"][0])\n",
    "        mask_y_0 = max(y_0 - box[1], 0)\n",
    "        mask_y_1 = mask_y_0 + y_1 - y_0\n",
    "        mask_x_0 = max(x_0 - box[0], 0)\n",
    "        mask_x_1 = mask_x_0 + x_1 - x_0\n",
    "        im_mask[y_0:y_1, x_0:x_1] = mask[mask_y_0 : mask_y_1, mask_x_0 : mask_x_1]  #原图尺寸的掩膜\n",
    "        \n",
    "        rle = mk.encode(np.asfortranarray(im_mask))\n",
    "        print(rle)\n",
    "\n",
    "        result_seg[label-1].append(rle)\n",
    "    \n",
    "    bboxs = torch.cat((torch.from_numpy(bboxs),torch.from_numpy(scores.reshape((-1,1)))),dim=1)\n",
    "    for i,label in enumerate(labels):\n",
    "        result_det[label-1].append(bboxs[i])\n",
    "        \n",
    "    results.append((result_det,result_seg))"
   ]
  },
  {
   "cell_type": "code",
   "execution_count": 10,
   "metadata": {},
   "outputs": [
    {
     "data": {
      "text/plain": [
       "{'file_name': '/home/geng/fiftyone/coco-2017/validation/data/000000397133.jpg',\n",
       " 'img_size': (640, 427),\n",
       " 'output': [array([[2.04250473e+02, 3.60535049e+01, 2.66997101e+02, 1.89642776e+02],\n",
       "         [3.26094836e-01, 1.38050232e+02, 3.13769264e+01, 1.63540085e+02],\n",
       "         [2.77355835e+02, 2.53986130e+01, 2.84665771e+02, 5.86160355e+01],\n",
       "         [1.62398510e+01, 1.84005142e+02, 5.26393051e+01, 2.03903519e+02],\n",
       "         [8.20932465e+01, 8.98702316e+01, 9.72104874e+01, 9.85564651e+01],\n",
       "         [2.72977051e+02, 2.29581413e+01, 2.78524811e+02, 4.82035217e+01],\n",
       "         [3.07047482e+01, 1.53708328e+02, 7.28398743e+01, 1.74533569e+02],\n",
       "         [2.85055511e+02, 1.88136978e+01, 2.94541046e+02, 6.97207413e+01],\n",
       "         [1.24394539e+02, 9.89613647e+01, 2.09066238e+02, 1.72448273e+02],\n",
       "         [7.58380737e+01, 1.43180710e+02, 9.19904556e+01, 1.61016800e+02],\n",
       "         [2.92728973e+02, 2.34075947e+01, 3.02066040e+02, 5.92476692e+01],\n",
       "         [2.60880280e+02, 1.08030556e+02, 3.28447968e+02, 1.83650131e+02],\n",
       "         [6.39979649e+00, 1.22173882e+02, 1.85623276e+02, 2.31866806e+02],\n",
       "         [4.24971390e+00, 1.06699127e+02, 1.00319481e+02, 1.57868103e+02],\n",
       "         [7.21199799e+01, 1.33534531e+02, 8.24914169e+01, 1.46084015e+02],\n",
       "         [1.38349593e-01, 6.55503464e+00, 3.20750618e+01, 8.18243942e+01],\n",
       "         [6.77525558e+01, 1.75766617e+02, 8.70085144e+01, 1.84565720e+02],\n",
       "         [3.29851837e+01, 1.55046844e+02, 6.81308136e+01, 1.69230194e+02],\n",
       "         [2.96289032e+02, 2.28843422e+01, 2.99923035e+02, 5.71368790e+01],\n",
       "         [1.12095512e-01, 1.62542526e+02, 4.30826187e+01, 1.94682434e+02],\n",
       "         [2.84295197e+02, 2.42063656e+01, 2.89778259e+02, 6.63186035e+01],\n",
       "         [5.42407274e+00, 1.77137253e+02, 4.62237892e+01, 2.00055374e+02],\n",
       "         [1.72341568e+02, 2.52221603e+01, 1.79462708e+02, 4.01986771e+01],\n",
       "         [2.77416626e+02, 3.84202309e+01, 2.83287323e+02, 5.81061172e+01],\n",
       "         [4.20555420e+01, 1.83390137e+02, 4.68314514e+01, 1.90566925e+02],\n",
       "         [2.59739594e+02, 2.44461098e+01, 2.66690674e+02, 5.03576088e+01],\n",
       "         [5.00540161e+01, 5.25839090e+00, 7.96710663e+01, 6.22664528e+01],\n",
       "         [8.33986206e+01, 6.00488358e+01, 9.25617065e+01, 6.86313629e+01],\n",
       "         [6.42054367e+01, 1.46872253e+02, 7.67807388e+01, 1.62212540e+02],\n",
       "         [8.31871109e+01, 6.02616348e+01, 9.26395187e+01, 6.86250153e+01],\n",
       "         [1.04263313e+02, 4.56919746e+01, 1.14667328e+02, 6.73461990e+01],\n",
       "         [1.77636242e+01, 1.83061951e+02, 5.00399742e+01, 1.94679718e+02],\n",
       "         [2.66150391e+02, 1.07909233e+02, 3.21953796e+02, 1.21289726e+02],\n",
       "         [1.92297897e+02, 7.50537491e+01, 2.13446671e+02, 1.06925461e+02],\n",
       "         [1.35759232e+02, 1.41136322e+02, 1.55557175e+02, 1.50085831e+02],\n",
       "         [7.21189880e+01, 1.33284607e+02, 8.09393845e+01, 1.45039658e+02],\n",
       "         [1.21769859e+02, 9.99022980e+01, 1.97211731e+02, 1.36754272e+02],\n",
       "         [7.26753464e+01, 1.33489426e+02, 9.20907669e+01, 1.46885010e+02],\n",
       "         [1.89180618e+02, 5.31993103e+01, 2.17460449e+02, 1.67802338e+02],\n",
       "         [1.69509552e+02, 6.22735634e+01, 1.93643677e+02, 8.01537018e+01],\n",
       "         [3.71835747e+01, 1.83624786e+02, 4.23302193e+01, 1.91774445e+02],\n",
       "         [6.28756714e+01, 1.71519363e+02, 8.19696426e+01, 1.84369904e+02],\n",
       "         [1.15645012e+02, 1.32278839e+02, 1.36797882e+02, 1.58506348e+02],\n",
       "         [8.10910797e+01, 8.34623642e+01, 9.73493500e+01, 9.21670990e+01],\n",
       "         [6.49113998e+01, 1.45656876e+02, 7.36011505e+01, 1.54620392e+02],\n",
       "         [2.61196899e+02, 2.32388058e+01, 2.65187012e+02, 4.84821625e+01],\n",
       "         [2.83340332e+02, 2.41267548e+01, 3.01793274e+02, 6.14622765e+01],\n",
       "         [4.38727951e+01, 1.60656281e+02, 5.08704147e+01, 1.64801834e+02],\n",
       "         [1.16059547e+02, 1.26174530e+02, 1.26965614e+02, 1.42403564e+02],\n",
       "         [7.28855362e+01, 4.18940496e+00, 9.62569427e+01, 4.08122330e+01],\n",
       "         [4.78851204e+01, 1.03658112e+02, 1.03744972e+02, 1.50980896e+02],\n",
       "         [3.33936653e+01, 9.27950573e+00, 6.59390411e+01, 6.75340881e+01],\n",
       "         [7.40692139e+01, 5.99156342e+01, 8.04991760e+01, 7.00643311e+01],\n",
       "         [4.87487793e+01, 1.95629822e+02, 6.35630875e+01, 2.06731674e+02],\n",
       "         [4.91435776e+01, 1.95653824e+02, 6.34888306e+01, 2.06674698e+02],\n",
       "         [2.78942413e+02, 2.23523293e+01, 2.93595093e+02, 6.40859146e+01],\n",
       "         [8.91321106e+01, 1.37169937e+02, 9.31846161e+01, 1.48837509e+02],\n",
       "         [7.22625351e+01, 1.74326553e+02, 8.83639069e+01, 1.85370850e+02],\n",
       "         [6.52014923e+01, 1.75819733e+02, 8.47737198e+01, 1.84054504e+02],\n",
       "         [2.81278503e+02, 2.43964081e+01, 2.86664642e+02, 5.39227371e+01],\n",
       "         [3.26058426e+01, 1.83530334e+02, 3.79096718e+01, 1.93027496e+02],\n",
       "         [1.35122323e+00, 1.19471230e+02, 4.63903580e+01, 1.55237747e+02],\n",
       "         [0.00000000e+00, 1.79298111e+02, 3.29878120e+01, 1.97309067e+02],\n",
       "         [2.83961060e+02, 5.56071625e+01, 2.95116486e+02, 6.78586578e+01],\n",
       "         [1.90660507e+02, 7.73990097e+01, 2.14565384e+02, 1.08741867e+02],\n",
       "         [6.95722961e+01, 5.57842102e+01, 7.49266281e+01, 7.08962326e+01],\n",
       "         [4.90407944e+01, 1.95740814e+02, 6.35044937e+01, 2.06686584e+02],\n",
       "         [2.27058563e+02, 5.87848396e+01, 2.53240311e+02, 1.03229218e+02],\n",
       "         [2.21988800e+02, 2.87007065e+01, 2.31296387e+02, 5.92298012e+01],\n",
       "         [6.38611221e+01, 1.46250671e+02, 7.68305664e+01, 1.62916519e+02],\n",
       "         [6.25007858e+01, 9.98223877e+01, 1.85486542e+02, 2.15897110e+02],\n",
       "         [9.68950577e+01, 8.65422897e+01, 1.02722694e+02, 9.58895493e+01],\n",
       "         [1.91055954e+02, 3.40271950e+01, 2.02991501e+02, 4.51928253e+01],\n",
       "         [1.90371689e+02, 7.57019348e+01, 2.14565689e+02, 1.08544624e+02],\n",
       "         [6.50099106e+01, 1.77219299e+02, 8.15089188e+01, 1.83971420e+02],\n",
       "         [2.89739777e+02, 2.27987556e+01, 2.92517944e+02, 6.27198410e+01],\n",
       "         [0.00000000e+00, 1.63025238e+02, 4.44171143e+01, 1.96737061e+02],\n",
       "         [2.58393585e+02, 2.48922195e+01, 2.68845703e+02, 5.91292610e+01],\n",
       "         [1.79821915e+02, 3.09000797e+01, 1.90315765e+02, 6.12019463e+01],\n",
       "         [1.35384537e+02, 6.22535210e+01, 1.54980530e+02, 8.40076141e+01],\n",
       "         [2.71788116e+02, 1.81746845e+01, 2.82213501e+02, 4.86309204e+01],\n",
       "         [3.80037546e-01, 1.02556778e+02, 1.23805626e+02, 2.01481216e+02],\n",
       "         [7.41330032e+01, 5.64259071e+01, 8.04043045e+01, 7.03663559e+01],\n",
       "         [2.31131332e+02, 6.23125343e+01, 2.43310349e+02, 9.48815384e+01],\n",
       "         [1.56508179e+02, 4.48139572e+01, 1.75967636e+02, 7.02631302e+01],\n",
       "         [2.85892395e+02, 2.58500023e+01, 2.90481354e+02, 5.21645699e+01],\n",
       "         [1.73988770e+02, 8.68948517e+01, 1.97256287e+02, 1.10200928e+02],\n",
       "         [2.93690002e+02, 3.72997208e+01, 3.01570007e+02, 5.78136101e+01],\n",
       "         [1.16278481e+02, 1.26650604e+02, 1.26989731e+02, 1.42768204e+02],\n",
       "         [7.18343048e+01, 8.45100555e+01, 7.61590500e+01, 1.00898010e+02],\n",
       "         [2.55611893e+02, 2.45881424e+01, 2.58026001e+02, 4.84539032e+01],\n",
       "         [1.69359650e+02, 6.19974976e+01, 1.93901306e+02, 8.00219345e+01],\n",
       "         [7.26941910e+01, 1.74192764e+02, 9.11106186e+01, 1.85527267e+02],\n",
       "         [8.95883636e+01, 1.16110085e+02, 1.92273819e+02, 1.69102203e+02],\n",
       "         [1.47938385e+02, 1.31809189e+02, 1.72643677e+02, 1.39867493e+02],\n",
       "         [6.95350800e+01, 5.55166473e+01, 8.02229233e+01, 7.11679535e+01],\n",
       "         [1.46148087e+02, 1.31316833e+02, 1.74645752e+02, 1.41192764e+02],\n",
       "         [1.79155777e+02, 2.95980167e+01, 1.91139969e+02, 6.11524315e+01],\n",
       "         [7.18960495e+01, 1.74247879e+02, 8.85408249e+01, 1.85157440e+02],\n",
       "         [2.53661728e+02, 2.34685726e+01, 2.71848694e+02, 6.76134415e+01]],\n",
       "        dtype=float32),\n",
       "  array([ 1,  1, 45, 46, 46, 45, 46, 45, 70, 42, 45, 70, 61, 70, 45, 59, 45,\n",
       "         54, 45, 56, 45, 46, 45, 45, 42, 45, 45, 42, 42, 46, 45, 46, 72, 25,\n",
       "         46, 44, 70, 45,  1, 55, 42, 46, 40, 46, 42, 44, 45, 56, 44, 45, 70,\n",
       "         45, 42, 43, 44, 45, 45, 44, 43, 45, 42, 70, 46, 45, 29, 40, 45, 25,\n",
       "         75, 40, 70, 46, 46, 27, 45, 45, 46, 45, 45, 46, 45, 70, 40, 28, 76,\n",
       "         45, 42, 45, 45, 40, 44, 56, 45, 70, 54, 40, 46, 41, 43, 45],\n",
       "        dtype=int64),\n",
       "  array([0.99960274, 0.97977394, 0.9665417 , 0.95296556, 0.9512523 ,\n",
       "         0.9326085 , 0.78875726, 0.77965415, 0.7230528 , 0.72068787,\n",
       "         0.69303393, 0.6922121 , 0.6074101 , 0.5882339 , 0.5784986 ,\n",
       "         0.5588779 , 0.5493054 , 0.54060966, 0.5261049 , 0.49883536,\n",
       "         0.4358026 , 0.43497914, 0.39944082, 0.39774758, 0.39107457,\n",
       "         0.3847082 , 0.36349684, 0.35840645, 0.35544574, 0.3510666 ,\n",
       "         0.317734  , 0.30848017, 0.30704993, 0.28725868, 0.27559704,\n",
       "         0.2699929 , 0.25571248, 0.25266752, 0.2468512 , 0.24660084,\n",
       "         0.2409121 , 0.23743232, 0.2298532 , 0.22020899, 0.21005087,\n",
       "         0.20772123, 0.2010368 , 0.2003111 , 0.19762537, 0.19644584,\n",
       "         0.19560786, 0.18969667, 0.18949522, 0.18798132, 0.18713474,\n",
       "         0.1863369 , 0.18632106, 0.18626304, 0.18485071, 0.18373391,\n",
       "         0.17674576, 0.1762733 , 0.172561  , 0.16957948, 0.16762733,\n",
       "         0.16399543, 0.16314013, 0.16278143, 0.15911369, 0.15608329,\n",
       "         0.1551756 , 0.15388486, 0.15276945, 0.15163696, 0.14345402,\n",
       "         0.14190711, 0.13797876, 0.13493194, 0.12979285, 0.12386542,\n",
       "         0.12060428, 0.12059659, 0.11973757, 0.11815614, 0.11483879,\n",
       "         0.11056709, 0.11023304, 0.10918994, 0.10652419, 0.10542737,\n",
       "         0.10359083, 0.10044038, 0.09851631, 0.09573995, 0.0947288 ,\n",
       "         0.09313203, 0.09182087, 0.09035511, 0.08925321, 0.08759741],\n",
       "        dtype=float32),\n",
       "  array([[[[1.03330612e-03, 1.11299753e-03, 3.80277634e-04, ...,\n",
       "            1.56897306e-03, 1.32656097e-03, 1.41286850e-03],\n",
       "           [1.16497278e-03, 1.12813711e-03, 6.03437424e-04, ...,\n",
       "            5.07175922e-03, 3.14295292e-03, 2.79748440e-03],\n",
       "           [5.73277473e-04, 9.25183296e-04, 6.52968884e-04, ...,\n",
       "            3.18789482e-02, 9.76473093e-03, 8.47953558e-03],\n",
       "           ...,\n",
       "           [1.53324366e-01, 7.15805650e-01, 9.76708770e-01, ...,\n",
       "            2.67928839e-03, 1.26248598e-03, 7.86423683e-04],\n",
       "           [9.54584479e-02, 3.35436940e-01, 8.30060363e-01, ...,\n",
       "            1.49893761e-03, 1.43736601e-03, 1.45518780e-03],\n",
       "           [2.24130750e-02, 3.78083587e-02, 6.26036525e-02, ...,\n",
       "            3.17454338e-04, 6.38544559e-04, 7.38799572e-04]]],\n",
       "  \n",
       "  \n",
       "         [[[6.02870584e-02, 3.05309892e-02, 1.45815611e-02, ...,\n",
       "            3.29494476e-04, 5.41985035e-04, 6.98447227e-04],\n",
       "           [9.39157009e-02, 5.10249734e-02, 2.40213275e-02, ...,\n",
       "            3.23772430e-04, 5.55336475e-04, 6.26027584e-04],\n",
       "           [2.76405394e-01, 1.43012822e-01, 5.79761863e-02, ...,\n",
       "            3.11851501e-04, 1.71661377e-04, 1.93059444e-04],\n",
       "           ...,\n",
       "           [6.38127983e-01, 7.03244865e-01, 6.91423774e-01, ...,\n",
       "            2.88260579e-02, 3.21279764e-02, 2.80407667e-02],\n",
       "           [5.82890391e-01, 6.63806021e-01, 7.05963790e-01, ...,\n",
       "            1.31908655e-02, 2.46038437e-02, 2.24391818e-02],\n",
       "           [5.60092926e-01, 6.40378654e-01, 6.71317160e-01, ...,\n",
       "            6.29633665e-03, 1.44863129e-02, 1.51913166e-02]]],\n",
       "  \n",
       "  \n",
       "         [[[8.55231285e-03, 5.71775436e-03, 1.14119053e-03, ...,\n",
       "            3.24205697e-01, 2.43976951e-01, 1.71876132e-01],\n",
       "           [1.04506016e-02, 5.69564104e-03, 1.16223097e-03, ...,\n",
       "            3.94746363e-01, 2.70808458e-01, 1.73572779e-01],\n",
       "           [4.30947542e-03, 2.07424164e-03, 3.32713127e-04, ...,\n",
       "            5.16469777e-01, 3.16454589e-01, 1.73194349e-01],\n",
       "           ...,\n",
       "           [3.93564641e-01, 6.62096143e-01, 8.49268138e-01, ...,\n",
       "            9.55770612e-02, 4.09741402e-02, 2.71347165e-02],\n",
       "           [5.49934208e-01, 7.78934419e-01, 8.97314489e-01, ...,\n",
       "            1.41790152e-01, 7.28546381e-02, 6.04764819e-02],\n",
       "           [6.18505418e-01, 7.91198134e-01, 8.93425405e-01, ...,\n",
       "            1.54150009e-01, 8.09845924e-02, 6.13626242e-02]]],\n",
       "  \n",
       "  \n",
       "         ...,\n",
       "  \n",
       "  \n",
       "         [[[5.13132215e-02, 4.86165881e-02, 3.54140997e-02, ...,\n",
       "            9.14818048e-03, 8.18920135e-03, 8.05079937e-03],\n",
       "           [5.43360114e-02, 5.31483293e-02, 3.09029222e-02, ...,\n",
       "            1.45799518e-02, 9.01049376e-03, 8.63927603e-03],\n",
       "           [8.09835792e-02, 9.19353962e-02, 5.95955253e-02, ...,\n",
       "            7.41558671e-02, 3.76268625e-02, 2.31715441e-02],\n",
       "           ...,\n",
       "           [1.01361871e-02, 9.73129272e-03, 1.42802596e-02, ...,\n",
       "            6.63204193e-02, 9.94063020e-02, 1.01639330e-01],\n",
       "           [2.71301866e-02, 2.42753625e-02, 2.98675895e-02, ...,\n",
       "            7.56156445e-02, 9.91930366e-02, 1.26192033e-01],\n",
       "           [5.30720949e-02, 5.29185534e-02, 6.99105263e-02, ...,\n",
       "            6.33606911e-02, 8.46710801e-02, 1.09133422e-01]]],\n",
       "  \n",
       "  \n",
       "         [[[3.08167934e-03, 2.39723921e-03, 3.57985497e-04, ...,\n",
       "            7.50464797e-02, 1.20565236e-01, 1.04506373e-01],\n",
       "           [2.28226185e-03, 1.90490484e-03, 1.79350376e-04, ...,\n",
       "            5.66038489e-02, 1.06351078e-01, 1.04728878e-01],\n",
       "           [7.81655312e-04, 5.66542149e-04, 1.11103058e-04, ...,\n",
       "            1.22473657e-01, 1.57585382e-01, 1.53803349e-01],\n",
       "           ...,\n",
       "           [2.25998521e-01, 2.29148924e-01, 2.54113972e-01, ...,\n",
       "            2.87234783e-04, 5.03897667e-04, 5.69403172e-04],\n",
       "           [2.27203786e-01, 2.40982533e-01, 2.51023412e-01, ...,\n",
       "            1.89125538e-04, 6.52968884e-04, 7.26521015e-04],\n",
       "           [2.20096111e-01, 2.29949355e-01, 2.50592470e-01, ...,\n",
       "            2.01404095e-04, 6.33299351e-04, 7.98523426e-04]]],\n",
       "  \n",
       "  \n",
       "         [[[4.59372997e-03, 5.89311123e-03, 1.31944418e-02, ...,\n",
       "            1.85549259e-04, 8.84711742e-04, 1.89363956e-03],\n",
       "           [3.91614437e-03, 5.06269932e-03, 1.57639980e-02, ...,\n",
       "            2.81751156e-04, 8.95440578e-04, 1.79576874e-03],\n",
       "           [5.49274683e-03, 8.47005844e-03, 3.03336382e-02, ...,\n",
       "            3.86059284e-04, 5.45680523e-04, 8.93652439e-04],\n",
       "           ...,\n",
       "           [4.35171306e-01, 4.17143345e-01, 4.37622786e-01, ...,\n",
       "            7.11033583e-01, 6.75333500e-01, 5.22621036e-01],\n",
       "           [2.63637245e-01, 2.79723644e-01, 2.24007905e-01, ...,\n",
       "            6.37040317e-01, 5.38186491e-01, 4.18460667e-01],\n",
       "           [2.40908504e-01, 2.45894313e-01, 2.44973063e-01, ...,\n",
       "            5.24133861e-01, 4.33957219e-01, 2.88255394e-01]]]],\n",
       "        dtype=float32)]}"
      ]
     },
     "execution_count": 10,
     "metadata": {},
     "output_type": "execute_result"
    }
   ],
   "source": [
    "outputs[0]"
   ]
  },
  {
   "cell_type": "code",
   "execution_count": 8,
   "metadata": {},
   "outputs": [
    {
     "ename": "ImportError",
     "evalue": "attempted relative import with no known parent package",
     "output_type": "error",
     "traceback": [
      "\u001b[0;31m---------------------------------------------------------------------------\u001b[0m",
      "\u001b[0;31mImportError\u001b[0m                               Traceback (most recent call last)",
      "\u001b[1;32m/home/geng/tinyml/ppq/benchmark/detection/dynamic_test/dynamic_test.ipynb Cell 10\u001b[0m in \u001b[0;36m<cell line: 1>\u001b[0;34m()\u001b[0m\n\u001b[0;32m----> <a href='vscode-notebook-cell://ssh-remote%2Bcad02/home/geng/tinyml/ppq/benchmark/detection/dynamic_test/dynamic_test.ipynb#X10sdnNjb2RlLXJlbW90ZQ%3D%3D?line=0'>1</a>\u001b[0m \u001b[39mfrom\u001b[39;00m \u001b[39m.\u001b[39;00m\u001b[39m.\u001b[39;00m\u001b[39mdataset\u001b[39;00m \u001b[39mimport\u001b[39;00m build_dataset\n\u001b[1;32m      <a href='vscode-notebook-cell://ssh-remote%2Bcad02/home/geng/tinyml/ppq/benchmark/detection/dynamic_test/dynamic_test.ipynb#X10sdnNjb2RlLXJlbW90ZQ%3D%3D?line=1'>2</a>\u001b[0m ann_file \u001b[39m=\u001b[39m \u001b[39m\"\u001b[39m\u001b[39m/home/geng/fiftyone/coco-2017/validation/labels.json\u001b[39m\u001b[39m\"\u001b[39m\n\u001b[1;32m      <a href='vscode-notebook-cell://ssh-remote%2Bcad02/home/geng/tinyml/ppq/benchmark/detection/dynamic_test/dynamic_test.ipynb#X10sdnNjb2RlLXJlbW90ZQ%3D%3D?line=2'>3</a>\u001b[0m data_root \u001b[39m=\u001b[39m \u001b[39m'\u001b[39m\u001b[39m/home/geng/fiftyone/coco-2017/validation/data/\u001b[39m\u001b[39m'\u001b[39m  \u001b[39m# 数据的根路径。\u001b[39;00m\n",
      "\u001b[0;31mImportError\u001b[0m: attempted relative import with no known parent package"
     ]
    }
   ],
   "source": [
    "from ..dataset import build_dataset\n",
    "ann_file = \"/home/geng/fiftyone/coco-2017/validation/labels.json\"\n",
    "data_root = '/home/geng/fiftyone/coco-2017/validation/data/'  # 数据的根路径。\n",
    "batch_size = 1\n",
    "input_size = (480,640)  #或者 (1,3,480,640)\n",
    "\n",
    "# 数据加载\n",
    "dataset = build_dataset(ann_file=ann_file,data_root=data_root,input_size=input_size)\n",
    "dataset.results2json(results=results,outfile_prefix=\"/home/geng/tinyml/ppq/benchmark/detection/FP32_model/FasterRCNN-12-FP32\") #也可以将推理结果持久化"
   ]
  },
  {
   "cell_type": "code",
   "execution_count": 7,
   "metadata": {},
   "outputs": [
    {
     "name": "stdout",
     "output_type": "stream",
     "text": [
      "\n",
      "Evaluating bbox...\n",
      "Loading and preparing results...\n",
      "DONE (t=0.86s)\n",
      "creating index...\n",
      "index created!\n",
      "Running per image evaluation...\n",
      "Evaluate annotation type *bbox*\n",
      "DONE (t=66.03s).\n",
      "Accumulating evaluation results...\n",
      "DONE (t=13.37s).\n",
      "\n",
      " Average Precision  (AP) @[ IoU=0.50:0.95 | area=   all | maxDets=100 ] = 0.352\n",
      " Average Precision  (AP) @[ IoU=0.50      | area=   all | maxDets=1000 ] = 0.578\n",
      " Average Precision  (AP) @[ IoU=0.75      | area=   all | maxDets=1000 ] = 0.373\n",
      " Average Precision  (AP) @[ IoU=0.50:0.95 | area= small | maxDets=1000 ] = 0.185\n",
      " Average Precision  (AP) @[ IoU=0.50:0.95 | area=medium | maxDets=1000 ] = 0.387\n",
      " Average Precision  (AP) @[ IoU=0.50:0.95 | area= large | maxDets=1000 ] = 0.473\n",
      " Average Recall     (AR) @[ IoU=0.50:0.95 | area=   all | maxDets=100 ] = 0.482\n",
      " Average Recall     (AR) @[ IoU=0.50:0.95 | area=   all | maxDets=300 ] = 0.482\n",
      " Average Recall     (AR) @[ IoU=0.50:0.95 | area=   all | maxDets=1000 ] = 0.482\n",
      " Average Recall     (AR) @[ IoU=0.50:0.95 | area= small | maxDets=1000 ] = 0.290\n",
      " Average Recall     (AR) @[ IoU=0.50:0.95 | area=medium | maxDets=1000 ] = 0.521\n",
      " Average Recall     (AR) @[ IoU=0.50:0.95 | area= large | maxDets=1000 ] = 0.624\n",
      "\n"
     ]
    },
    {
     "data": {
      "text/plain": [
       "OrderedDict([('bbox_mAP', 0.352),\n",
       "             ('bbox_mAP_50', 0.578),\n",
       "             ('bbox_mAP_75', 0.373),\n",
       "             ('bbox_mAP_s', 0.185),\n",
       "             ('bbox_mAP_m', 0.387),\n",
       "             ('bbox_mAP_l', 0.473),\n",
       "             ('bbox_mAP_copypaste', '0.352 0.578 0.373 0.185 0.387 0.473')])"
      ]
     },
     "execution_count": 7,
     "metadata": {},
     "output_type": "execute_result"
    }
   ],
   "source": [
    "# dataset.evaluate(results=results) \n",
    "dataset.evaluate(results_json_path=\"/home/geng/tinyml/ppq/benchmark/detection/FP32_model/FasterRCNN-12-FP32.bbox.json\") "
   ]
  },
  {
   "cell_type": "code",
   "execution_count": null,
   "metadata": {},
   "outputs": [],
   "source": []
  }
 ],
 "metadata": {
  "kernelspec": {
   "display_name": "Python 3.8.13 ('ppq')",
   "language": "python",
   "name": "python3"
  },
  "language_info": {
   "codemirror_mode": {
    "name": "ipython",
    "version": 3
   },
   "file_extension": ".py",
   "mimetype": "text/x-python",
   "name": "python",
   "nbconvert_exporter": "python",
   "pygments_lexer": "ipython3",
   "version": "3.8.13"
  },
  "orig_nbformat": 4,
  "vscode": {
   "interpreter": {
    "hash": "e1f49b93815805eca9ccc5299d655a62f3a8d0678e274dc3dfeb518f21176dcd"
   }
  }
 },
 "nbformat": 4,
 "nbformat_minor": 2
}
